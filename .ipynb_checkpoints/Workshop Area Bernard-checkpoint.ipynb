{
 "cells": [
  {
   "cell_type": "code",
   "execution_count": 79,
   "metadata": {},
   "outputs": [],
   "source": [
    "import pandas as pd\n",
    "import matplotlib.pyplot as plt"
   ]
  },
  {
   "cell_type": "code",
   "execution_count": 2,
   "metadata": {},
   "outputs": [],
   "source": [
    "driver = pd.read_csv('datasets/driver_ids.csv')\n",
    "ride = pd.read_csv('datasets/ride_ids.csv')\n",
    "time = pd.read_csv('datasets/ride_timestamps.csv')"
   ]
  },
  {
   "cell_type": "markdown",
   "metadata": {},
   "source": [
    "# Cleaning/Reformatting Datasets"
   ]
  },
  {
   "cell_type": "markdown",
   "metadata": {},
   "source": [
    "### Driver"
   ]
  },
  {
   "cell_type": "code",
   "execution_count": 3,
   "metadata": {},
   "outputs": [],
   "source": [
    "# change driver_oboard_date to datetime for easier manipulation \n",
    "driver['driver_onboard_date'] = pd.to_datetime(driver['driver_onboard_date']) "
   ]
  },
  {
   "cell_type": "code",
   "execution_count": 4,
   "metadata": {},
   "outputs": [
    {
     "data": {
      "text/html": [
       "<div>\n",
       "<style scoped>\n",
       "    .dataframe tbody tr th:only-of-type {\n",
       "        vertical-align: middle;\n",
       "    }\n",
       "\n",
       "    .dataframe tbody tr th {\n",
       "        vertical-align: top;\n",
       "    }\n",
       "\n",
       "    .dataframe thead th {\n",
       "        text-align: right;\n",
       "    }\n",
       "</style>\n",
       "<table border=\"1\" class=\"dataframe\">\n",
       "  <thead>\n",
       "    <tr style=\"text-align: right;\">\n",
       "      <th></th>\n",
       "      <th>driver_id</th>\n",
       "      <th>driver_onboard_date</th>\n",
       "    </tr>\n",
       "  </thead>\n",
       "  <tbody>\n",
       "    <tr>\n",
       "      <th>0</th>\n",
       "      <td>002be0ffdc997bd5c50703158b7c2491</td>\n",
       "      <td>2016-03-29</td>\n",
       "    </tr>\n",
       "    <tr>\n",
       "      <th>1</th>\n",
       "      <td>007f0389f9c7b03ef97098422f902e62</td>\n",
       "      <td>2016-03-29</td>\n",
       "    </tr>\n",
       "    <tr>\n",
       "      <th>2</th>\n",
       "      <td>011e5c5dfc5c2c92501b8b24d47509bc</td>\n",
       "      <td>2016-04-05</td>\n",
       "    </tr>\n",
       "    <tr>\n",
       "      <th>3</th>\n",
       "      <td>0152a2f305e71d26cc964f8d4411add9</td>\n",
       "      <td>2016-04-23</td>\n",
       "    </tr>\n",
       "    <tr>\n",
       "      <th>4</th>\n",
       "      <td>01674381af7edd264113d4e6ed55ecda</td>\n",
       "      <td>2016-04-29</td>\n",
       "    </tr>\n",
       "  </tbody>\n",
       "</table>\n",
       "</div>"
      ],
      "text/plain": [
       "                          driver_id driver_onboard_date\n",
       "0  002be0ffdc997bd5c50703158b7c2491          2016-03-29\n",
       "1  007f0389f9c7b03ef97098422f902e62          2016-03-29\n",
       "2  011e5c5dfc5c2c92501b8b24d47509bc          2016-04-05\n",
       "3  0152a2f305e71d26cc964f8d4411add9          2016-04-23\n",
       "4  01674381af7edd264113d4e6ed55ecda          2016-04-29"
      ]
     },
     "execution_count": 4,
     "metadata": {},
     "output_type": "execute_result"
    }
   ],
   "source": [
    "driver.head()"
   ]
  },
  {
   "cell_type": "markdown",
   "metadata": {},
   "source": [
    "### Ride"
   ]
  },
  {
   "cell_type": "code",
   "execution_count": 5,
   "metadata": {},
   "outputs": [],
   "source": [
    "# notes about prime time: https://help.lyft.com/hc/en-us/articles/115012926467-Prime-Time-for-drivers\n",
    "# prime time is a PERCENTAGE, not a duration of time "
   ]
  },
  {
   "cell_type": "code",
   "execution_count": 6,
   "metadata": {},
   "outputs": [],
   "source": [
    "ride['ride_prime_time'] = ride['ride_prime_time']/100"
   ]
  },
  {
   "cell_type": "code",
   "execution_count": 7,
   "metadata": {},
   "outputs": [],
   "source": [
    "ride.columns = ['driver_id','ride_id','ride_distance (meters)','ride_duration (seconds)','ride_prime_time (percentage)']"
   ]
  },
  {
   "cell_type": "code",
   "execution_count": 8,
   "metadata": {},
   "outputs": [],
   "source": [
    "ride['ride_distance (miles)'] = ride['ride_distance (meters)']/1609.344\n",
    "ride['ride_duration (minutes)'] = ride['ride_duration (seconds)']/60\n",
    "ride['cost (no_prime_time)'] = 1.75+2+ride['ride_distance (miles)']*1.15 + ride['ride_duration (minutes)']*.22\n",
    "# should prime time percentage also account for base fare? probably, but double check\n",
    "ride['cost w/ prime time'] = (2+ride['ride_distance (miles)']*1.15 + ride['ride_duration (minutes)']*.22)*(\n",
    "    1+ride['ride_prime_time (percentage)'])+1.75"
   ]
  },
  {
   "cell_type": "code",
   "execution_count": 9,
   "metadata": {},
   "outputs": [],
   "source": [
    "def cost_regulator(x):\n",
    "    if x < 5:\n",
    "        return 5\n",
    "    elif x > 400:\n",
    "        return 400 \n",
    "    else:\n",
    "        return x\n",
    "ride['cost w/ prime time'] = ride['cost w/ prime time'].apply(cost_regulator)"
   ]
  },
  {
   "cell_type": "code",
   "execution_count": 10,
   "metadata": {
    "scrolled": true
   },
   "outputs": [],
   "source": [
    "ride['cost w/ prime time'] = ride['cost w/ prime time'].apply(cost_regulator)"
   ]
  },
  {
   "cell_type": "code",
   "execution_count": 11,
   "metadata": {},
   "outputs": [
    {
     "data": {
      "text/html": [
       "<div>\n",
       "<style scoped>\n",
       "    .dataframe tbody tr th:only-of-type {\n",
       "        vertical-align: middle;\n",
       "    }\n",
       "\n",
       "    .dataframe tbody tr th {\n",
       "        vertical-align: top;\n",
       "    }\n",
       "\n",
       "    .dataframe thead th {\n",
       "        text-align: right;\n",
       "    }\n",
       "</style>\n",
       "<table border=\"1\" class=\"dataframe\">\n",
       "  <thead>\n",
       "    <tr style=\"text-align: right;\">\n",
       "      <th></th>\n",
       "      <th>driver_id</th>\n",
       "      <th>ride_id</th>\n",
       "      <th>ride_distance (meters)</th>\n",
       "      <th>ride_duration (seconds)</th>\n",
       "      <th>ride_prime_time (percentage)</th>\n",
       "      <th>ride_distance (miles)</th>\n",
       "      <th>ride_duration (minutes)</th>\n",
       "      <th>cost (no_prime_time)</th>\n",
       "      <th>cost w/ prime time</th>\n",
       "    </tr>\n",
       "  </thead>\n",
       "  <tbody>\n",
       "    <tr>\n",
       "      <th>0</th>\n",
       "      <td>002be0ffdc997bd5c50703158b7c2491</td>\n",
       "      <td>006d61cf7446e682f7bc50b0f8a5bea5</td>\n",
       "      <td>1811</td>\n",
       "      <td>327</td>\n",
       "      <td>0.50</td>\n",
       "      <td>1.125303</td>\n",
       "      <td>5.450000</td>\n",
       "      <td>6.243099</td>\n",
       "      <td>8.489648</td>\n",
       "    </tr>\n",
       "    <tr>\n",
       "      <th>1</th>\n",
       "      <td>002be0ffdc997bd5c50703158b7c2491</td>\n",
       "      <td>01b522c5c3a756fbdb12e95e87507eda</td>\n",
       "      <td>3362</td>\n",
       "      <td>809</td>\n",
       "      <td>0.00</td>\n",
       "      <td>2.089050</td>\n",
       "      <td>13.483333</td>\n",
       "      <td>9.118741</td>\n",
       "      <td>9.118741</td>\n",
       "    </tr>\n",
       "    <tr>\n",
       "      <th>2</th>\n",
       "      <td>002be0ffdc997bd5c50703158b7c2491</td>\n",
       "      <td>029227c4c2971ce69ff2274dc798ef43</td>\n",
       "      <td>3282</td>\n",
       "      <td>572</td>\n",
       "      <td>0.00</td>\n",
       "      <td>2.039340</td>\n",
       "      <td>9.533333</td>\n",
       "      <td>8.192575</td>\n",
       "      <td>8.192575</td>\n",
       "    </tr>\n",
       "    <tr>\n",
       "      <th>3</th>\n",
       "      <td>002be0ffdc997bd5c50703158b7c2491</td>\n",
       "      <td>034e861343a63ac3c18a9ceb1ce0ac69</td>\n",
       "      <td>65283</td>\n",
       "      <td>3338</td>\n",
       "      <td>0.25</td>\n",
       "      <td>40.564976</td>\n",
       "      <td>55.633333</td>\n",
       "      <td>62.639055</td>\n",
       "      <td>77.861319</td>\n",
       "    </tr>\n",
       "    <tr>\n",
       "      <th>4</th>\n",
       "      <td>002be0ffdc997bd5c50703158b7c2491</td>\n",
       "      <td>034f2e614a2f9fc7f1c2f77647d1b981</td>\n",
       "      <td>4115</td>\n",
       "      <td>823</td>\n",
       "      <td>1.00</td>\n",
       "      <td>2.556942</td>\n",
       "      <td>13.716667</td>\n",
       "      <td>9.708150</td>\n",
       "      <td>17.666301</td>\n",
       "    </tr>\n",
       "  </tbody>\n",
       "</table>\n",
       "</div>"
      ],
      "text/plain": [
       "                          driver_id                           ride_id  \\\n",
       "0  002be0ffdc997bd5c50703158b7c2491  006d61cf7446e682f7bc50b0f8a5bea5   \n",
       "1  002be0ffdc997bd5c50703158b7c2491  01b522c5c3a756fbdb12e95e87507eda   \n",
       "2  002be0ffdc997bd5c50703158b7c2491  029227c4c2971ce69ff2274dc798ef43   \n",
       "3  002be0ffdc997bd5c50703158b7c2491  034e861343a63ac3c18a9ceb1ce0ac69   \n",
       "4  002be0ffdc997bd5c50703158b7c2491  034f2e614a2f9fc7f1c2f77647d1b981   \n",
       "\n",
       "   ride_distance (meters)  ride_duration (seconds)  \\\n",
       "0                    1811                      327   \n",
       "1                    3362                      809   \n",
       "2                    3282                      572   \n",
       "3                   65283                     3338   \n",
       "4                    4115                      823   \n",
       "\n",
       "   ride_prime_time (percentage)  ride_distance (miles)  \\\n",
       "0                          0.50               1.125303   \n",
       "1                          0.00               2.089050   \n",
       "2                          0.00               2.039340   \n",
       "3                          0.25              40.564976   \n",
       "4                          1.00               2.556942   \n",
       "\n",
       "   ride_duration (minutes)  cost (no_prime_time)  cost w/ prime time  \n",
       "0                 5.450000              6.243099            8.489648  \n",
       "1                13.483333              9.118741            9.118741  \n",
       "2                 9.533333              8.192575            8.192575  \n",
       "3                55.633333             62.639055           77.861319  \n",
       "4                13.716667              9.708150           17.666301  "
      ]
     },
     "execution_count": 11,
     "metadata": {},
     "output_type": "execute_result"
    }
   ],
   "source": [
    "ride.head()"
   ]
  },
  {
   "cell_type": "markdown",
   "metadata": {},
   "source": [
    "### Ride Timestamps"
   ]
  },
  {
   "cell_type": "code",
   "execution_count": 12,
   "metadata": {},
   "outputs": [
    {
     "data": {
      "text/html": [
       "<div>\n",
       "<style scoped>\n",
       "    .dataframe tbody tr th:only-of-type {\n",
       "        vertical-align: middle;\n",
       "    }\n",
       "\n",
       "    .dataframe tbody tr th {\n",
       "        vertical-align: top;\n",
       "    }\n",
       "\n",
       "    .dataframe thead th {\n",
       "        text-align: right;\n",
       "    }\n",
       "</style>\n",
       "<table border=\"1\" class=\"dataframe\">\n",
       "  <thead>\n",
       "    <tr style=\"text-align: right;\">\n",
       "      <th></th>\n",
       "      <th>ride_id</th>\n",
       "      <th>event</th>\n",
       "      <th>timestamp</th>\n",
       "    </tr>\n",
       "  </thead>\n",
       "  <tbody>\n",
       "    <tr>\n",
       "      <th>0</th>\n",
       "      <td>00003037a262d9ee40e61b5c0718f7f0</td>\n",
       "      <td>requested_at</td>\n",
       "      <td>2016-06-13 09:39:19</td>\n",
       "    </tr>\n",
       "    <tr>\n",
       "      <th>1</th>\n",
       "      <td>00003037a262d9ee40e61b5c0718f7f0</td>\n",
       "      <td>accepted_at</td>\n",
       "      <td>2016-06-13 09:39:51</td>\n",
       "    </tr>\n",
       "    <tr>\n",
       "      <th>2</th>\n",
       "      <td>00003037a262d9ee40e61b5c0718f7f0</td>\n",
       "      <td>arrived_at</td>\n",
       "      <td>2016-06-13 09:44:31</td>\n",
       "    </tr>\n",
       "    <tr>\n",
       "      <th>3</th>\n",
       "      <td>00003037a262d9ee40e61b5c0718f7f0</td>\n",
       "      <td>picked_up_at</td>\n",
       "      <td>2016-06-13 09:44:33</td>\n",
       "    </tr>\n",
       "    <tr>\n",
       "      <th>4</th>\n",
       "      <td>00003037a262d9ee40e61b5c0718f7f0</td>\n",
       "      <td>dropped_off_at</td>\n",
       "      <td>2016-06-13 10:03:05</td>\n",
       "    </tr>\n",
       "  </tbody>\n",
       "</table>\n",
       "</div>"
      ],
      "text/plain": [
       "                            ride_id           event            timestamp\n",
       "0  00003037a262d9ee40e61b5c0718f7f0    requested_at  2016-06-13 09:39:19\n",
       "1  00003037a262d9ee40e61b5c0718f7f0     accepted_at  2016-06-13 09:39:51\n",
       "2  00003037a262d9ee40e61b5c0718f7f0      arrived_at  2016-06-13 09:44:31\n",
       "3  00003037a262d9ee40e61b5c0718f7f0    picked_up_at  2016-06-13 09:44:33\n",
       "4  00003037a262d9ee40e61b5c0718f7f0  dropped_off_at  2016-06-13 10:03:05"
      ]
     },
     "execution_count": 12,
     "metadata": {},
     "output_type": "execute_result"
    }
   ],
   "source": [
    "time.head()"
   ]
  },
  {
   "cell_type": "code",
   "execution_count": 13,
   "metadata": {},
   "outputs": [
    {
     "data": {
      "text/plain": [
       "array([5])"
      ]
     },
     "execution_count": 13,
     "metadata": {},
     "output_type": "execute_result"
    }
   ],
   "source": [
    "# each ride_id has 5 events; requested_at, accepted_at, arrived_at, picked_up_at, dropped_off_at\n",
    "# could figure out duration each step took for each person \n",
    "time['ride_id'].value_counts().unique()"
   ]
  },
  {
   "cell_type": "code",
   "execution_count": 14,
   "metadata": {},
   "outputs": [],
   "source": [
    "time['timestamp'] = pd.to_datetime(time['timestamp'])"
   ]
  },
  {
   "cell_type": "code",
   "execution_count": 15,
   "metadata": {},
   "outputs": [
    {
     "data": {
      "text/html": [
       "<div>\n",
       "<style scoped>\n",
       "    .dataframe tbody tr th:only-of-type {\n",
       "        vertical-align: middle;\n",
       "    }\n",
       "\n",
       "    .dataframe tbody tr th {\n",
       "        vertical-align: top;\n",
       "    }\n",
       "\n",
       "    .dataframe thead th {\n",
       "        text-align: right;\n",
       "    }\n",
       "</style>\n",
       "<table border=\"1\" class=\"dataframe\">\n",
       "  <thead>\n",
       "    <tr style=\"text-align: right;\">\n",
       "      <th></th>\n",
       "      <th>ride_id</th>\n",
       "      <th>event</th>\n",
       "      <th>timestamp</th>\n",
       "    </tr>\n",
       "  </thead>\n",
       "  <tbody>\n",
       "    <tr>\n",
       "      <th>0</th>\n",
       "      <td>00003037a262d9ee40e61b5c0718f7f0</td>\n",
       "      <td>requested_at</td>\n",
       "      <td>2016-06-13 09:39:19</td>\n",
       "    </tr>\n",
       "    <tr>\n",
       "      <th>1</th>\n",
       "      <td>00003037a262d9ee40e61b5c0718f7f0</td>\n",
       "      <td>accepted_at</td>\n",
       "      <td>2016-06-13 09:39:51</td>\n",
       "    </tr>\n",
       "    <tr>\n",
       "      <th>2</th>\n",
       "      <td>00003037a262d9ee40e61b5c0718f7f0</td>\n",
       "      <td>arrived_at</td>\n",
       "      <td>2016-06-13 09:44:31</td>\n",
       "    </tr>\n",
       "    <tr>\n",
       "      <th>3</th>\n",
       "      <td>00003037a262d9ee40e61b5c0718f7f0</td>\n",
       "      <td>picked_up_at</td>\n",
       "      <td>2016-06-13 09:44:33</td>\n",
       "    </tr>\n",
       "    <tr>\n",
       "      <th>4</th>\n",
       "      <td>00003037a262d9ee40e61b5c0718f7f0</td>\n",
       "      <td>dropped_off_at</td>\n",
       "      <td>2016-06-13 10:03:05</td>\n",
       "    </tr>\n",
       "  </tbody>\n",
       "</table>\n",
       "</div>"
      ],
      "text/plain": [
       "                            ride_id           event           timestamp\n",
       "0  00003037a262d9ee40e61b5c0718f7f0    requested_at 2016-06-13 09:39:19\n",
       "1  00003037a262d9ee40e61b5c0718f7f0     accepted_at 2016-06-13 09:39:51\n",
       "2  00003037a262d9ee40e61b5c0718f7f0      arrived_at 2016-06-13 09:44:31\n",
       "3  00003037a262d9ee40e61b5c0718f7f0    picked_up_at 2016-06-13 09:44:33\n",
       "4  00003037a262d9ee40e61b5c0718f7f0  dropped_off_at 2016-06-13 10:03:05"
      ]
     },
     "execution_count": 15,
     "metadata": {},
     "output_type": "execute_result"
    }
   ],
   "source": [
    "# rather than having 5 rows for each driving thing, make 1 row with 5 data points\n",
    "time.head()"
   ]
  },
  {
   "cell_type": "code",
   "execution_count": 16,
   "metadata": {},
   "outputs": [],
   "source": [
    "mod_time = time.pivot(index='ride_id', columns='event', values='timestamp').reset_index()"
   ]
  },
  {
   "cell_type": "code",
   "execution_count": 17,
   "metadata": {},
   "outputs": [
    {
     "data": {
      "text/html": [
       "<div>\n",
       "<style scoped>\n",
       "    .dataframe tbody tr th:only-of-type {\n",
       "        vertical-align: middle;\n",
       "    }\n",
       "\n",
       "    .dataframe tbody tr th {\n",
       "        vertical-align: top;\n",
       "    }\n",
       "\n",
       "    .dataframe thead th {\n",
       "        text-align: right;\n",
       "    }\n",
       "</style>\n",
       "<table border=\"1\" class=\"dataframe\">\n",
       "  <thead>\n",
       "    <tr style=\"text-align: right;\">\n",
       "      <th>event</th>\n",
       "      <th>ride_id</th>\n",
       "      <th>accepted_at</th>\n",
       "      <th>arrived_at</th>\n",
       "      <th>dropped_off_at</th>\n",
       "      <th>picked_up_at</th>\n",
       "      <th>requested_at</th>\n",
       "    </tr>\n",
       "  </thead>\n",
       "  <tbody>\n",
       "    <tr>\n",
       "      <th>0</th>\n",
       "      <td>00003037a262d9ee40e61b5c0718f7f0</td>\n",
       "      <td>2016-06-13 09:39:51</td>\n",
       "      <td>2016-06-13 09:44:31</td>\n",
       "      <td>2016-06-13 10:03:05</td>\n",
       "      <td>2016-06-13 09:44:33</td>\n",
       "      <td>2016-06-13 09:39:19</td>\n",
       "    </tr>\n",
       "    <tr>\n",
       "      <th>1</th>\n",
       "      <td>00005eae40882760d675da5effb89ae3</td>\n",
       "      <td>2016-05-14 05:23:25</td>\n",
       "      <td>2016-05-14 05:26:17</td>\n",
       "      <td>2016-05-14 05:34:17</td>\n",
       "      <td>2016-05-14 05:26:18</td>\n",
       "      <td>2016-05-14 05:23:21</td>\n",
       "    </tr>\n",
       "    <tr>\n",
       "      <th>2</th>\n",
       "      <td>000061d42cf29f73b591041d9a1b2973</td>\n",
       "      <td>2016-05-16 15:43:14</td>\n",
       "      <td>2016-05-16 15:47:29</td>\n",
       "      <td>2016-05-16 15:54:18</td>\n",
       "      <td>2016-05-16 15:47:32</td>\n",
       "      <td>2016-05-16 15:43:09</td>\n",
       "    </tr>\n",
       "    <tr>\n",
       "      <th>3</th>\n",
       "      <td>00006efeb0d5e3ccad7d921ddeee9900</td>\n",
       "      <td>2016-05-11 19:29:43</td>\n",
       "      <td>2016-05-11 19:35:11</td>\n",
       "      <td>2016-05-11 19:40:47</td>\n",
       "      <td>2016-05-11 19:35:15</td>\n",
       "      <td>2016-05-11 19:29:36</td>\n",
       "    </tr>\n",
       "    <tr>\n",
       "      <th>4</th>\n",
       "      <td>0000d9b24d8ccdd991b76258e616fa01</td>\n",
       "      <td>2016-04-26 18:12:15</td>\n",
       "      <td>2016-04-26 18:16:52</td>\n",
       "      <td>2016-04-26 18:24:14</td>\n",
       "      <td>2016-04-26 18:16:55</td>\n",
       "      <td>2016-04-26 18:11:38</td>\n",
       "    </tr>\n",
       "  </tbody>\n",
       "</table>\n",
       "</div>"
      ],
      "text/plain": [
       "event                           ride_id         accepted_at  \\\n",
       "0      00003037a262d9ee40e61b5c0718f7f0 2016-06-13 09:39:51   \n",
       "1      00005eae40882760d675da5effb89ae3 2016-05-14 05:23:25   \n",
       "2      000061d42cf29f73b591041d9a1b2973 2016-05-16 15:43:14   \n",
       "3      00006efeb0d5e3ccad7d921ddeee9900 2016-05-11 19:29:43   \n",
       "4      0000d9b24d8ccdd991b76258e616fa01 2016-04-26 18:12:15   \n",
       "\n",
       "event          arrived_at      dropped_off_at        picked_up_at  \\\n",
       "0     2016-06-13 09:44:31 2016-06-13 10:03:05 2016-06-13 09:44:33   \n",
       "1     2016-05-14 05:26:17 2016-05-14 05:34:17 2016-05-14 05:26:18   \n",
       "2     2016-05-16 15:47:29 2016-05-16 15:54:18 2016-05-16 15:47:32   \n",
       "3     2016-05-11 19:35:11 2016-05-11 19:40:47 2016-05-11 19:35:15   \n",
       "4     2016-04-26 18:16:52 2016-04-26 18:24:14 2016-04-26 18:16:55   \n",
       "\n",
       "event        requested_at  \n",
       "0     2016-06-13 09:39:19  \n",
       "1     2016-05-14 05:23:21  \n",
       "2     2016-05-16 15:43:09  \n",
       "3     2016-05-11 19:29:36  \n",
       "4     2016-04-26 18:11:38  "
      ]
     },
     "execution_count": 17,
     "metadata": {},
     "output_type": "execute_result"
    }
   ],
   "source": [
    "# idk how to get rid of event, IDC anymore\n",
    "mod_time.index.name = None\n",
    "mod_time.head()"
   ]
  },
  {
   "cell_type": "code",
   "execution_count": 18,
   "metadata": {},
   "outputs": [],
   "source": [
    "mod_time = mod_time[['ride_id','requested_at','accepted_at','arrived_at','picked_up_at','dropped_off_at']]"
   ]
  },
  {
   "cell_type": "code",
   "execution_count": 19,
   "metadata": {},
   "outputs": [
    {
     "data": {
      "text/html": [
       "<div>\n",
       "<style scoped>\n",
       "    .dataframe tbody tr th:only-of-type {\n",
       "        vertical-align: middle;\n",
       "    }\n",
       "\n",
       "    .dataframe tbody tr th {\n",
       "        vertical-align: top;\n",
       "    }\n",
       "\n",
       "    .dataframe thead th {\n",
       "        text-align: right;\n",
       "    }\n",
       "</style>\n",
       "<table border=\"1\" class=\"dataframe\">\n",
       "  <thead>\n",
       "    <tr style=\"text-align: right;\">\n",
       "      <th>event</th>\n",
       "      <th>ride_id</th>\n",
       "      <th>requested_at</th>\n",
       "      <th>accepted_at</th>\n",
       "      <th>arrived_at</th>\n",
       "      <th>picked_up_at</th>\n",
       "      <th>dropped_off_at</th>\n",
       "    </tr>\n",
       "  </thead>\n",
       "  <tbody>\n",
       "    <tr>\n",
       "      <th>0</th>\n",
       "      <td>00003037a262d9ee40e61b5c0718f7f0</td>\n",
       "      <td>2016-06-13 09:39:19</td>\n",
       "      <td>2016-06-13 09:39:51</td>\n",
       "      <td>2016-06-13 09:44:31</td>\n",
       "      <td>2016-06-13 09:44:33</td>\n",
       "      <td>2016-06-13 10:03:05</td>\n",
       "    </tr>\n",
       "    <tr>\n",
       "      <th>1</th>\n",
       "      <td>00005eae40882760d675da5effb89ae3</td>\n",
       "      <td>2016-05-14 05:23:21</td>\n",
       "      <td>2016-05-14 05:23:25</td>\n",
       "      <td>2016-05-14 05:26:17</td>\n",
       "      <td>2016-05-14 05:26:18</td>\n",
       "      <td>2016-05-14 05:34:17</td>\n",
       "    </tr>\n",
       "    <tr>\n",
       "      <th>2</th>\n",
       "      <td>000061d42cf29f73b591041d9a1b2973</td>\n",
       "      <td>2016-05-16 15:43:09</td>\n",
       "      <td>2016-05-16 15:43:14</td>\n",
       "      <td>2016-05-16 15:47:29</td>\n",
       "      <td>2016-05-16 15:47:32</td>\n",
       "      <td>2016-05-16 15:54:18</td>\n",
       "    </tr>\n",
       "    <tr>\n",
       "      <th>3</th>\n",
       "      <td>00006efeb0d5e3ccad7d921ddeee9900</td>\n",
       "      <td>2016-05-11 19:29:36</td>\n",
       "      <td>2016-05-11 19:29:43</td>\n",
       "      <td>2016-05-11 19:35:11</td>\n",
       "      <td>2016-05-11 19:35:15</td>\n",
       "      <td>2016-05-11 19:40:47</td>\n",
       "    </tr>\n",
       "    <tr>\n",
       "      <th>4</th>\n",
       "      <td>0000d9b24d8ccdd991b76258e616fa01</td>\n",
       "      <td>2016-04-26 18:11:38</td>\n",
       "      <td>2016-04-26 18:12:15</td>\n",
       "      <td>2016-04-26 18:16:52</td>\n",
       "      <td>2016-04-26 18:16:55</td>\n",
       "      <td>2016-04-26 18:24:14</td>\n",
       "    </tr>\n",
       "  </tbody>\n",
       "</table>\n",
       "</div>"
      ],
      "text/plain": [
       "event                           ride_id        requested_at  \\\n",
       "0      00003037a262d9ee40e61b5c0718f7f0 2016-06-13 09:39:19   \n",
       "1      00005eae40882760d675da5effb89ae3 2016-05-14 05:23:21   \n",
       "2      000061d42cf29f73b591041d9a1b2973 2016-05-16 15:43:09   \n",
       "3      00006efeb0d5e3ccad7d921ddeee9900 2016-05-11 19:29:36   \n",
       "4      0000d9b24d8ccdd991b76258e616fa01 2016-04-26 18:11:38   \n",
       "\n",
       "event         accepted_at          arrived_at        picked_up_at  \\\n",
       "0     2016-06-13 09:39:51 2016-06-13 09:44:31 2016-06-13 09:44:33   \n",
       "1     2016-05-14 05:23:25 2016-05-14 05:26:17 2016-05-14 05:26:18   \n",
       "2     2016-05-16 15:43:14 2016-05-16 15:47:29 2016-05-16 15:47:32   \n",
       "3     2016-05-11 19:29:43 2016-05-11 19:35:11 2016-05-11 19:35:15   \n",
       "4     2016-04-26 18:12:15 2016-04-26 18:16:52 2016-04-26 18:16:55   \n",
       "\n",
       "event      dropped_off_at  \n",
       "0     2016-06-13 10:03:05  \n",
       "1     2016-05-14 05:34:17  \n",
       "2     2016-05-16 15:54:18  \n",
       "3     2016-05-11 19:40:47  \n",
       "4     2016-04-26 18:24:14  "
      ]
     },
     "execution_count": 19,
     "metadata": {},
     "output_type": "execute_result"
    }
   ],
   "source": [
    "mod_time.head()"
   ]
  },
  {
   "cell_type": "code",
   "execution_count": 20,
   "metadata": {},
   "outputs": [],
   "source": [
    "# how long a person had to wait before someone accepted their ride request\n",
    "mod_time['duration_request_to_accept'] = mod_time['accepted_at']-mod_time['requested_at']\n",
    "# how long it took driver to drive to location of person\n",
    "mod_time['duration_accept_to_arrive'] = mod_time['arrived_at']-mod_time['accepted_at']\n",
    "# how long the driver waited for the person to get into the car\n",
    "mod_time['duration_arrived_to_pickup'] = mod_time['picked_up_at']-mod_time['arrived_at']\n",
    "# how long the actual trip was \n",
    "mod_time['duration_ride'] = mod_time['dropped_off_at']-mod_time['picked_up_at']"
   ]
  },
  {
   "cell_type": "code",
   "execution_count": 21,
   "metadata": {},
   "outputs": [
    {
     "data": {
      "text/html": [
       "<div>\n",
       "<style scoped>\n",
       "    .dataframe tbody tr th:only-of-type {\n",
       "        vertical-align: middle;\n",
       "    }\n",
       "\n",
       "    .dataframe tbody tr th {\n",
       "        vertical-align: top;\n",
       "    }\n",
       "\n",
       "    .dataframe thead th {\n",
       "        text-align: right;\n",
       "    }\n",
       "</style>\n",
       "<table border=\"1\" class=\"dataframe\">\n",
       "  <thead>\n",
       "    <tr style=\"text-align: right;\">\n",
       "      <th>event</th>\n",
       "      <th>ride_id</th>\n",
       "      <th>requested_at</th>\n",
       "      <th>accepted_at</th>\n",
       "      <th>arrived_at</th>\n",
       "      <th>picked_up_at</th>\n",
       "      <th>dropped_off_at</th>\n",
       "      <th>duration_request_to_accept</th>\n",
       "      <th>duration_accept_to_arrive</th>\n",
       "      <th>duration_arrived_to_pickup</th>\n",
       "      <th>duration_ride</th>\n",
       "    </tr>\n",
       "  </thead>\n",
       "  <tbody>\n",
       "    <tr>\n",
       "      <th>0</th>\n",
       "      <td>00003037a262d9ee40e61b5c0718f7f0</td>\n",
       "      <td>2016-06-13 09:39:19</td>\n",
       "      <td>2016-06-13 09:39:51</td>\n",
       "      <td>2016-06-13 09:44:31</td>\n",
       "      <td>2016-06-13 09:44:33</td>\n",
       "      <td>2016-06-13 10:03:05</td>\n",
       "      <td>00:00:32</td>\n",
       "      <td>00:04:40</td>\n",
       "      <td>00:00:02</td>\n",
       "      <td>00:18:32</td>\n",
       "    </tr>\n",
       "    <tr>\n",
       "      <th>1</th>\n",
       "      <td>00005eae40882760d675da5effb89ae3</td>\n",
       "      <td>2016-05-14 05:23:21</td>\n",
       "      <td>2016-05-14 05:23:25</td>\n",
       "      <td>2016-05-14 05:26:17</td>\n",
       "      <td>2016-05-14 05:26:18</td>\n",
       "      <td>2016-05-14 05:34:17</td>\n",
       "      <td>00:00:04</td>\n",
       "      <td>00:02:52</td>\n",
       "      <td>00:00:01</td>\n",
       "      <td>00:07:59</td>\n",
       "    </tr>\n",
       "    <tr>\n",
       "      <th>2</th>\n",
       "      <td>000061d42cf29f73b591041d9a1b2973</td>\n",
       "      <td>2016-05-16 15:43:09</td>\n",
       "      <td>2016-05-16 15:43:14</td>\n",
       "      <td>2016-05-16 15:47:29</td>\n",
       "      <td>2016-05-16 15:47:32</td>\n",
       "      <td>2016-05-16 15:54:18</td>\n",
       "      <td>00:00:05</td>\n",
       "      <td>00:04:15</td>\n",
       "      <td>00:00:03</td>\n",
       "      <td>00:06:46</td>\n",
       "    </tr>\n",
       "    <tr>\n",
       "      <th>3</th>\n",
       "      <td>00006efeb0d5e3ccad7d921ddeee9900</td>\n",
       "      <td>2016-05-11 19:29:36</td>\n",
       "      <td>2016-05-11 19:29:43</td>\n",
       "      <td>2016-05-11 19:35:11</td>\n",
       "      <td>2016-05-11 19:35:15</td>\n",
       "      <td>2016-05-11 19:40:47</td>\n",
       "      <td>00:00:07</td>\n",
       "      <td>00:05:28</td>\n",
       "      <td>00:00:04</td>\n",
       "      <td>00:05:32</td>\n",
       "    </tr>\n",
       "    <tr>\n",
       "      <th>4</th>\n",
       "      <td>0000d9b24d8ccdd991b76258e616fa01</td>\n",
       "      <td>2016-04-26 18:11:38</td>\n",
       "      <td>2016-04-26 18:12:15</td>\n",
       "      <td>2016-04-26 18:16:52</td>\n",
       "      <td>2016-04-26 18:16:55</td>\n",
       "      <td>2016-04-26 18:24:14</td>\n",
       "      <td>00:00:37</td>\n",
       "      <td>00:04:37</td>\n",
       "      <td>00:00:03</td>\n",
       "      <td>00:07:19</td>\n",
       "    </tr>\n",
       "  </tbody>\n",
       "</table>\n",
       "</div>"
      ],
      "text/plain": [
       "event                           ride_id        requested_at  \\\n",
       "0      00003037a262d9ee40e61b5c0718f7f0 2016-06-13 09:39:19   \n",
       "1      00005eae40882760d675da5effb89ae3 2016-05-14 05:23:21   \n",
       "2      000061d42cf29f73b591041d9a1b2973 2016-05-16 15:43:09   \n",
       "3      00006efeb0d5e3ccad7d921ddeee9900 2016-05-11 19:29:36   \n",
       "4      0000d9b24d8ccdd991b76258e616fa01 2016-04-26 18:11:38   \n",
       "\n",
       "event         accepted_at          arrived_at        picked_up_at  \\\n",
       "0     2016-06-13 09:39:51 2016-06-13 09:44:31 2016-06-13 09:44:33   \n",
       "1     2016-05-14 05:23:25 2016-05-14 05:26:17 2016-05-14 05:26:18   \n",
       "2     2016-05-16 15:43:14 2016-05-16 15:47:29 2016-05-16 15:47:32   \n",
       "3     2016-05-11 19:29:43 2016-05-11 19:35:11 2016-05-11 19:35:15   \n",
       "4     2016-04-26 18:12:15 2016-04-26 18:16:52 2016-04-26 18:16:55   \n",
       "\n",
       "event      dropped_off_at duration_request_to_accept  \\\n",
       "0     2016-06-13 10:03:05                   00:00:32   \n",
       "1     2016-05-14 05:34:17                   00:00:04   \n",
       "2     2016-05-16 15:54:18                   00:00:05   \n",
       "3     2016-05-11 19:40:47                   00:00:07   \n",
       "4     2016-04-26 18:24:14                   00:00:37   \n",
       "\n",
       "event duration_accept_to_arrive duration_arrived_to_pickup duration_ride  \n",
       "0                      00:04:40                   00:00:02      00:18:32  \n",
       "1                      00:02:52                   00:00:01      00:07:59  \n",
       "2                      00:04:15                   00:00:03      00:06:46  \n",
       "3                      00:05:28                   00:00:04      00:05:32  \n",
       "4                      00:04:37                   00:00:03      00:07:19  "
      ]
     },
     "execution_count": 21,
     "metadata": {},
     "output_type": "execute_result"
    }
   ],
   "source": [
    "mod_time.head()"
   ]
  },
  {
   "cell_type": "markdown",
   "metadata": {},
   "source": [
    "### Merged Datasets"
   ]
  },
  {
   "cell_type": "code",
   "execution_count": 22,
   "metadata": {},
   "outputs": [],
   "source": [
    "driver_merge = driver"
   ]
  },
  {
   "cell_type": "code",
   "execution_count": 23,
   "metadata": {},
   "outputs": [],
   "source": [
    "ride_merge = ride[['driver_id','ride_id','ride_distance (miles)', 'ride_duration (minutes)', \n",
    "                   'ride_prime_time (percentage)','cost w/ prime time']]"
   ]
  },
  {
   "cell_type": "code",
   "execution_count": 24,
   "metadata": {},
   "outputs": [],
   "source": [
    "time_merge = mod_time"
   ]
  },
  {
   "cell_type": "markdown",
   "metadata": {},
   "source": [
    "#### Merging based off of driver's id"
   ]
  },
  {
   "cell_type": "code",
   "execution_count": 25,
   "metadata": {},
   "outputs": [
    {
     "data": {
      "text/plain": [
       "937"
      ]
     },
     "execution_count": 25,
     "metadata": {},
     "output_type": "execute_result"
    }
   ],
   "source": [
    "# there are NO repeats of driver id's \n",
    "# there are 937 id's \n",
    "driver_merge['driver_id'].value_counts().unique()\n",
    "len(driver_merge['driver_id'].unique())"
   ]
  },
  {
   "cell_type": "code",
   "execution_count": 26,
   "metadata": {},
   "outputs": [
    {
     "data": {
      "text/plain": [
       "193502"
      ]
     },
     "execution_count": 26,
     "metadata": {},
     "output_type": "execute_result"
    }
   ],
   "source": [
    "len(ride_merge)"
   ]
  },
  {
   "cell_type": "code",
   "execution_count": 27,
   "metadata": {},
   "outputs": [
    {
     "data": {
      "text/plain": [
       "937"
      ]
     },
     "execution_count": 27,
     "metadata": {},
     "output_type": "execute_result"
    }
   ],
   "source": [
    "# there are 937 id's (should be safe to assume they're the same driver_id's, HOWEVER double check that the merge \n",
    "# works properly; merge should have same length as ride_merge)\n",
    "len(ride_merge['driver_id'].unique())"
   ]
  },
  {
   "cell_type": "code",
   "execution_count": 28,
   "metadata": {},
   "outputs": [
    {
     "data": {
      "text/html": [
       "<div>\n",
       "<style scoped>\n",
       "    .dataframe tbody tr th:only-of-type {\n",
       "        vertical-align: middle;\n",
       "    }\n",
       "\n",
       "    .dataframe tbody tr th {\n",
       "        vertical-align: top;\n",
       "    }\n",
       "\n",
       "    .dataframe thead th {\n",
       "        text-align: right;\n",
       "    }\n",
       "</style>\n",
       "<table border=\"1\" class=\"dataframe\">\n",
       "  <thead>\n",
       "    <tr style=\"text-align: right;\">\n",
       "      <th></th>\n",
       "      <th>driver_id</th>\n",
       "      <th>ride_id</th>\n",
       "      <th>ride_distance (miles)</th>\n",
       "      <th>ride_duration (minutes)</th>\n",
       "      <th>ride_prime_time (percentage)</th>\n",
       "      <th>cost w/ prime time</th>\n",
       "      <th>driver_onboard_date</th>\n",
       "    </tr>\n",
       "  </thead>\n",
       "  <tbody>\n",
       "    <tr>\n",
       "      <th>0</th>\n",
       "      <td>002be0ffdc997bd5c50703158b7c2491</td>\n",
       "      <td>006d61cf7446e682f7bc50b0f8a5bea5</td>\n",
       "      <td>1.125303</td>\n",
       "      <td>5.450000</td>\n",
       "      <td>0.50</td>\n",
       "      <td>8.489648</td>\n",
       "      <td>2016-03-29</td>\n",
       "    </tr>\n",
       "    <tr>\n",
       "      <th>1</th>\n",
       "      <td>002be0ffdc997bd5c50703158b7c2491</td>\n",
       "      <td>01b522c5c3a756fbdb12e95e87507eda</td>\n",
       "      <td>2.089050</td>\n",
       "      <td>13.483333</td>\n",
       "      <td>0.00</td>\n",
       "      <td>9.118741</td>\n",
       "      <td>2016-03-29</td>\n",
       "    </tr>\n",
       "    <tr>\n",
       "      <th>2</th>\n",
       "      <td>002be0ffdc997bd5c50703158b7c2491</td>\n",
       "      <td>029227c4c2971ce69ff2274dc798ef43</td>\n",
       "      <td>2.039340</td>\n",
       "      <td>9.533333</td>\n",
       "      <td>0.00</td>\n",
       "      <td>8.192575</td>\n",
       "      <td>2016-03-29</td>\n",
       "    </tr>\n",
       "    <tr>\n",
       "      <th>3</th>\n",
       "      <td>002be0ffdc997bd5c50703158b7c2491</td>\n",
       "      <td>034e861343a63ac3c18a9ceb1ce0ac69</td>\n",
       "      <td>40.564976</td>\n",
       "      <td>55.633333</td>\n",
       "      <td>0.25</td>\n",
       "      <td>77.861319</td>\n",
       "      <td>2016-03-29</td>\n",
       "    </tr>\n",
       "    <tr>\n",
       "      <th>4</th>\n",
       "      <td>002be0ffdc997bd5c50703158b7c2491</td>\n",
       "      <td>034f2e614a2f9fc7f1c2f77647d1b981</td>\n",
       "      <td>2.556942</td>\n",
       "      <td>13.716667</td>\n",
       "      <td>1.00</td>\n",
       "      <td>17.666301</td>\n",
       "      <td>2016-03-29</td>\n",
       "    </tr>\n",
       "  </tbody>\n",
       "</table>\n",
       "</div>"
      ],
      "text/plain": [
       "                          driver_id                           ride_id  \\\n",
       "0  002be0ffdc997bd5c50703158b7c2491  006d61cf7446e682f7bc50b0f8a5bea5   \n",
       "1  002be0ffdc997bd5c50703158b7c2491  01b522c5c3a756fbdb12e95e87507eda   \n",
       "2  002be0ffdc997bd5c50703158b7c2491  029227c4c2971ce69ff2274dc798ef43   \n",
       "3  002be0ffdc997bd5c50703158b7c2491  034e861343a63ac3c18a9ceb1ce0ac69   \n",
       "4  002be0ffdc997bd5c50703158b7c2491  034f2e614a2f9fc7f1c2f77647d1b981   \n",
       "\n",
       "   ride_distance (miles)  ride_duration (minutes)  \\\n",
       "0               1.125303                 5.450000   \n",
       "1               2.089050                13.483333   \n",
       "2               2.039340                 9.533333   \n",
       "3              40.564976                55.633333   \n",
       "4               2.556942                13.716667   \n",
       "\n",
       "   ride_prime_time (percentage)  cost w/ prime time driver_onboard_date  \n",
       "0                          0.50            8.489648          2016-03-29  \n",
       "1                          0.00            9.118741          2016-03-29  \n",
       "2                          0.00            8.192575          2016-03-29  \n",
       "3                          0.25           77.861319          2016-03-29  \n",
       "4                          1.00           17.666301          2016-03-29  "
      ]
     },
     "execution_count": 28,
     "metadata": {},
     "output_type": "execute_result"
    }
   ],
   "source": [
    "first_merge = ride_merge.merge(driver_merge, how = 'outer')\n",
    "first_merge.head()"
   ]
  },
  {
   "cell_type": "code",
   "execution_count": 29,
   "metadata": {},
   "outputs": [
    {
     "data": {
      "text/plain": [
       "185891"
      ]
     },
     "execution_count": 29,
     "metadata": {},
     "output_type": "execute_result"
    }
   ],
   "source": [
    "all_info = ride_merge.merge(driver_merge, how = 'inner')\n",
    "len(all_info)"
   ]
  },
  {
   "cell_type": "code",
   "execution_count": 30,
   "metadata": {},
   "outputs": [
    {
     "data": {
      "text/plain": [
       "193585"
      ]
     },
     "execution_count": 30,
     "metadata": {},
     "output_type": "execute_result"
    }
   ],
   "source": [
    "len(first_merge)"
   ]
  },
  {
   "cell_type": "code",
   "execution_count": 31,
   "metadata": {
    "scrolled": true
   },
   "outputs": [
    {
     "data": {
      "text/html": [
       "<div>\n",
       "<style scoped>\n",
       "    .dataframe tbody tr th:only-of-type {\n",
       "        vertical-align: middle;\n",
       "    }\n",
       "\n",
       "    .dataframe tbody tr th {\n",
       "        vertical-align: top;\n",
       "    }\n",
       "\n",
       "    .dataframe thead th {\n",
       "        text-align: right;\n",
       "    }\n",
       "</style>\n",
       "<table border=\"1\" class=\"dataframe\">\n",
       "  <thead>\n",
       "    <tr style=\"text-align: right;\">\n",
       "      <th></th>\n",
       "      <th>driver_id</th>\n",
       "      <th>ride_id</th>\n",
       "      <th>ride_distance (miles)</th>\n",
       "      <th>ride_duration (minutes)</th>\n",
       "      <th>ride_prime_time (percentage)</th>\n",
       "      <th>cost w/ prime time</th>\n",
       "      <th>driver_onboard_date</th>\n",
       "    </tr>\n",
       "  </thead>\n",
       "  <tbody>\n",
       "    <tr>\n",
       "      <th>3687</th>\n",
       "      <td>056175954c78be4c4de7e80167b7e1f9</td>\n",
       "      <td>0488679087be6f76612dfc9ecba227e5</td>\n",
       "      <td>1.285617</td>\n",
       "      <td>6.783333</td>\n",
       "      <td>0.0</td>\n",
       "      <td>6.720793</td>\n",
       "      <td>NaT</td>\n",
       "    </tr>\n",
       "    <tr>\n",
       "      <th>3688</th>\n",
       "      <td>056175954c78be4c4de7e80167b7e1f9</td>\n",
       "      <td>060d6b3e4916e1aec8cc1e746f6fd87e</td>\n",
       "      <td>1.048875</td>\n",
       "      <td>6.150000</td>\n",
       "      <td>0.0</td>\n",
       "      <td>6.309206</td>\n",
       "      <td>NaT</td>\n",
       "    </tr>\n",
       "    <tr>\n",
       "      <th>3689</th>\n",
       "      <td>056175954c78be4c4de7e80167b7e1f9</td>\n",
       "      <td>075f23b3edafd5020837b14b79d7b9e8</td>\n",
       "      <td>8.010096</td>\n",
       "      <td>21.933333</td>\n",
       "      <td>0.0</td>\n",
       "      <td>17.786944</td>\n",
       "      <td>NaT</td>\n",
       "    </tr>\n",
       "    <tr>\n",
       "      <th>3690</th>\n",
       "      <td>056175954c78be4c4de7e80167b7e1f9</td>\n",
       "      <td>0d4727f995ee19c0ed4654b0a5a82176</td>\n",
       "      <td>1.282510</td>\n",
       "      <td>7.216667</td>\n",
       "      <td>0.0</td>\n",
       "      <td>6.812553</td>\n",
       "      <td>NaT</td>\n",
       "    </tr>\n",
       "    <tr>\n",
       "      <th>3691</th>\n",
       "      <td>056175954c78be4c4de7e80167b7e1f9</td>\n",
       "      <td>0f1f969a4ddc30c8c9c14509156e3149</td>\n",
       "      <td>2.491698</td>\n",
       "      <td>15.733333</td>\n",
       "      <td>0.0</td>\n",
       "      <td>10.076787</td>\n",
       "      <td>NaT</td>\n",
       "    </tr>\n",
       "  </tbody>\n",
       "</table>\n",
       "</div>"
      ],
      "text/plain": [
       "                             driver_id                           ride_id  \\\n",
       "3687  056175954c78be4c4de7e80167b7e1f9  0488679087be6f76612dfc9ecba227e5   \n",
       "3688  056175954c78be4c4de7e80167b7e1f9  060d6b3e4916e1aec8cc1e746f6fd87e   \n",
       "3689  056175954c78be4c4de7e80167b7e1f9  075f23b3edafd5020837b14b79d7b9e8   \n",
       "3690  056175954c78be4c4de7e80167b7e1f9  0d4727f995ee19c0ed4654b0a5a82176   \n",
       "3691  056175954c78be4c4de7e80167b7e1f9  0f1f969a4ddc30c8c9c14509156e3149   \n",
       "\n",
       "      ride_distance (miles)  ride_duration (minutes)  \\\n",
       "3687               1.285617                 6.783333   \n",
       "3688               1.048875                 6.150000   \n",
       "3689               8.010096                21.933333   \n",
       "3690               1.282510                 7.216667   \n",
       "3691               2.491698                15.733333   \n",
       "\n",
       "      ride_prime_time (percentage)  cost w/ prime time driver_onboard_date  \n",
       "3687                           0.0            6.720793                 NaT  \n",
       "3688                           0.0            6.309206                 NaT  \n",
       "3689                           0.0           17.786944                 NaT  \n",
       "3690                           0.0            6.812553                 NaT  \n",
       "3691                           0.0           10.076787                 NaT  "
      ]
     },
     "execution_count": 31,
     "metadata": {},
     "output_type": "execute_result"
    }
   ],
   "source": [
    "# we dont have a start date for these rides \n",
    "no_start_date = first_merge[first_merge['driver_onboard_date'].isnull()]\n",
    "no_start_date.head()"
   ]
  },
  {
   "cell_type": "code",
   "execution_count": 32,
   "metadata": {},
   "outputs": [
    {
     "data": {
      "text/plain": [
       "83"
      ]
     },
     "execution_count": 32,
     "metadata": {},
     "output_type": "execute_result"
    }
   ],
   "source": [
    "# 83 drivers dont have driver data\n",
    "len(no_start_date['driver_id'].unique())"
   ]
  },
  {
   "cell_type": "code",
   "execution_count": 33,
   "metadata": {},
   "outputs": [
    {
     "data": {
      "text/html": [
       "<div>\n",
       "<style scoped>\n",
       "    .dataframe tbody tr th:only-of-type {\n",
       "        vertical-align: middle;\n",
       "    }\n",
       "\n",
       "    .dataframe tbody tr th {\n",
       "        vertical-align: top;\n",
       "    }\n",
       "\n",
       "    .dataframe thead th {\n",
       "        text-align: right;\n",
       "    }\n",
       "</style>\n",
       "<table border=\"1\" class=\"dataframe\">\n",
       "  <thead>\n",
       "    <tr style=\"text-align: right;\">\n",
       "      <th></th>\n",
       "      <th>driver_id</th>\n",
       "      <th>ride_id</th>\n",
       "      <th>ride_distance (miles)</th>\n",
       "      <th>ride_duration (minutes)</th>\n",
       "      <th>ride_prime_time (percentage)</th>\n",
       "      <th>cost w/ prime time</th>\n",
       "      <th>driver_onboard_date</th>\n",
       "    </tr>\n",
       "  </thead>\n",
       "  <tbody>\n",
       "    <tr>\n",
       "      <th>193502</th>\n",
       "      <td>01788cf817698fe68eaecd7eb18b2f72</td>\n",
       "      <td>NaN</td>\n",
       "      <td>NaN</td>\n",
       "      <td>NaN</td>\n",
       "      <td>NaN</td>\n",
       "      <td>NaN</td>\n",
       "      <td>2016-05-06</td>\n",
       "    </tr>\n",
       "    <tr>\n",
       "      <th>193503</th>\n",
       "      <td>133faf644d5cfee9460b87eea4367f92</td>\n",
       "      <td>NaN</td>\n",
       "      <td>NaN</td>\n",
       "      <td>NaN</td>\n",
       "      <td>NaN</td>\n",
       "      <td>NaN</td>\n",
       "      <td>2016-04-08</td>\n",
       "    </tr>\n",
       "    <tr>\n",
       "      <th>193504</th>\n",
       "      <td>13fe6713788e9b63f57950320f260512</td>\n",
       "      <td>NaN</td>\n",
       "      <td>NaN</td>\n",
       "      <td>NaN</td>\n",
       "      <td>NaN</td>\n",
       "      <td>NaN</td>\n",
       "      <td>2016-05-05</td>\n",
       "    </tr>\n",
       "    <tr>\n",
       "      <th>193505</th>\n",
       "      <td>146cd888491dd0f348575244f5bbc24e</td>\n",
       "      <td>NaN</td>\n",
       "      <td>NaN</td>\n",
       "      <td>NaN</td>\n",
       "      <td>NaN</td>\n",
       "      <td>NaN</td>\n",
       "      <td>2016-04-16</td>\n",
       "    </tr>\n",
       "    <tr>\n",
       "      <th>193506</th>\n",
       "      <td>1585fa96f0818e8f4d1cf826b332fda4</td>\n",
       "      <td>NaN</td>\n",
       "      <td>NaN</td>\n",
       "      <td>NaN</td>\n",
       "      <td>NaN</td>\n",
       "      <td>NaN</td>\n",
       "      <td>2016-05-06</td>\n",
       "    </tr>\n",
       "  </tbody>\n",
       "</table>\n",
       "</div>"
      ],
      "text/plain": [
       "                               driver_id ride_id  ride_distance (miles)  \\\n",
       "193502  01788cf817698fe68eaecd7eb18b2f72     NaN                    NaN   \n",
       "193503  133faf644d5cfee9460b87eea4367f92     NaN                    NaN   \n",
       "193504  13fe6713788e9b63f57950320f260512     NaN                    NaN   \n",
       "193505  146cd888491dd0f348575244f5bbc24e     NaN                    NaN   \n",
       "193506  1585fa96f0818e8f4d1cf826b332fda4     NaN                    NaN   \n",
       "\n",
       "        ride_duration (minutes)  ride_prime_time (percentage)  \\\n",
       "193502                      NaN                           NaN   \n",
       "193503                      NaN                           NaN   \n",
       "193504                      NaN                           NaN   \n",
       "193505                      NaN                           NaN   \n",
       "193506                      NaN                           NaN   \n",
       "\n",
       "        cost w/ prime time driver_onboard_date  \n",
       "193502                 NaN          2016-05-06  \n",
       "193503                 NaN          2016-04-08  \n",
       "193504                 NaN          2016-05-05  \n",
       "193505                 NaN          2016-04-16  \n",
       "193506                 NaN          2016-05-06  "
      ]
     },
     "execution_count": 33,
     "metadata": {},
     "output_type": "execute_result"
    }
   ],
   "source": [
    "driver_that_has_no_rides = first_merge[first_merge['ride_id'].isnull()]\n",
    "driver_that_has_no_rides.head()"
   ]
  },
  {
   "cell_type": "code",
   "execution_count": 34,
   "metadata": {},
   "outputs": [
    {
     "data": {
      "text/plain": [
       "83"
      ]
     },
     "execution_count": 34,
     "metadata": {},
     "output_type": "execute_result"
    }
   ],
   "source": [
    "# 83 drivers haven't driven any rides \n",
    "len(driver_that_has_no_rides)"
   ]
  },
  {
   "cell_type": "markdown",
   "metadata": {},
   "source": [
    "#### merging based off of ride id"
   ]
  },
  {
   "cell_type": "code",
   "execution_count": 35,
   "metadata": {},
   "outputs": [
    {
     "data": {
      "text/plain": [
       "193502"
      ]
     },
     "execution_count": 35,
     "metadata": {},
     "output_type": "execute_result"
    }
   ],
   "source": [
    "len(ride_merge['ride_id'].unique())"
   ]
  },
  {
   "cell_type": "code",
   "execution_count": 36,
   "metadata": {},
   "outputs": [
    {
     "data": {
      "text/plain": [
       "194081"
      ]
     },
     "execution_count": 36,
     "metadata": {},
     "output_type": "execute_result"
    }
   ],
   "source": [
    "# has extra rides that you don't have data for \n",
    "len(time_merge['ride_id'].unique())"
   ]
  },
  {
   "cell_type": "code",
   "execution_count": 37,
   "metadata": {},
   "outputs": [],
   "source": [
    "second_merge = ride_merge.merge(time_merge, how = 'outer')"
   ]
  },
  {
   "cell_type": "code",
   "execution_count": 38,
   "metadata": {},
   "outputs": [
    {
     "data": {
      "text/plain": [
       "202764"
      ]
     },
     "execution_count": 38,
     "metadata": {},
     "output_type": "execute_result"
    }
   ],
   "source": [
    "len(second_merge)"
   ]
  },
  {
   "cell_type": "code",
   "execution_count": 39,
   "metadata": {},
   "outputs": [
    {
     "data": {
      "text/html": [
       "<div>\n",
       "<style scoped>\n",
       "    .dataframe tbody tr th:only-of-type {\n",
       "        vertical-align: middle;\n",
       "    }\n",
       "\n",
       "    .dataframe tbody tr th {\n",
       "        vertical-align: top;\n",
       "    }\n",
       "\n",
       "    .dataframe thead th {\n",
       "        text-align: right;\n",
       "    }\n",
       "</style>\n",
       "<table border=\"1\" class=\"dataframe\">\n",
       "  <thead>\n",
       "    <tr style=\"text-align: right;\">\n",
       "      <th></th>\n",
       "      <th>driver_id</th>\n",
       "      <th>ride_id</th>\n",
       "      <th>ride_distance (miles)</th>\n",
       "      <th>ride_duration (minutes)</th>\n",
       "      <th>ride_prime_time (percentage)</th>\n",
       "      <th>cost w/ prime time</th>\n",
       "      <th>requested_at</th>\n",
       "      <th>accepted_at</th>\n",
       "      <th>arrived_at</th>\n",
       "      <th>picked_up_at</th>\n",
       "      <th>dropped_off_at</th>\n",
       "      <th>duration_request_to_accept</th>\n",
       "      <th>duration_accept_to_arrive</th>\n",
       "      <th>duration_arrived_to_pickup</th>\n",
       "      <th>duration_ride</th>\n",
       "    </tr>\n",
       "  </thead>\n",
       "  <tbody>\n",
       "    <tr>\n",
       "      <th>3687</th>\n",
       "      <td>056175954c78be4c4de7e80167b7e1f9</td>\n",
       "      <td>0488679087be6f76612dfc9ecba227e5</td>\n",
       "      <td>1.285617</td>\n",
       "      <td>6.783333</td>\n",
       "      <td>0.0</td>\n",
       "      <td>6.720793</td>\n",
       "      <td>NaT</td>\n",
       "      <td>NaT</td>\n",
       "      <td>NaT</td>\n",
       "      <td>NaT</td>\n",
       "      <td>NaT</td>\n",
       "      <td>NaT</td>\n",
       "      <td>NaT</td>\n",
       "      <td>NaT</td>\n",
       "      <td>NaT</td>\n",
       "    </tr>\n",
       "    <tr>\n",
       "      <th>3688</th>\n",
       "      <td>056175954c78be4c4de7e80167b7e1f9</td>\n",
       "      <td>060d6b3e4916e1aec8cc1e746f6fd87e</td>\n",
       "      <td>1.048875</td>\n",
       "      <td>6.150000</td>\n",
       "      <td>0.0</td>\n",
       "      <td>6.309206</td>\n",
       "      <td>NaT</td>\n",
       "      <td>NaT</td>\n",
       "      <td>NaT</td>\n",
       "      <td>NaT</td>\n",
       "      <td>NaT</td>\n",
       "      <td>NaT</td>\n",
       "      <td>NaT</td>\n",
       "      <td>NaT</td>\n",
       "      <td>NaT</td>\n",
       "    </tr>\n",
       "    <tr>\n",
       "      <th>3689</th>\n",
       "      <td>056175954c78be4c4de7e80167b7e1f9</td>\n",
       "      <td>075f23b3edafd5020837b14b79d7b9e8</td>\n",
       "      <td>8.010096</td>\n",
       "      <td>21.933333</td>\n",
       "      <td>0.0</td>\n",
       "      <td>17.786944</td>\n",
       "      <td>NaT</td>\n",
       "      <td>NaT</td>\n",
       "      <td>NaT</td>\n",
       "      <td>NaT</td>\n",
       "      <td>NaT</td>\n",
       "      <td>NaT</td>\n",
       "      <td>NaT</td>\n",
       "      <td>NaT</td>\n",
       "      <td>NaT</td>\n",
       "    </tr>\n",
       "    <tr>\n",
       "      <th>3690</th>\n",
       "      <td>056175954c78be4c4de7e80167b7e1f9</td>\n",
       "      <td>0d4727f995ee19c0ed4654b0a5a82176</td>\n",
       "      <td>1.282510</td>\n",
       "      <td>7.216667</td>\n",
       "      <td>0.0</td>\n",
       "      <td>6.812553</td>\n",
       "      <td>NaT</td>\n",
       "      <td>NaT</td>\n",
       "      <td>NaT</td>\n",
       "      <td>NaT</td>\n",
       "      <td>NaT</td>\n",
       "      <td>NaT</td>\n",
       "      <td>NaT</td>\n",
       "      <td>NaT</td>\n",
       "      <td>NaT</td>\n",
       "    </tr>\n",
       "    <tr>\n",
       "      <th>3691</th>\n",
       "      <td>056175954c78be4c4de7e80167b7e1f9</td>\n",
       "      <td>0f1f969a4ddc30c8c9c14509156e3149</td>\n",
       "      <td>2.491698</td>\n",
       "      <td>15.733333</td>\n",
       "      <td>0.0</td>\n",
       "      <td>10.076787</td>\n",
       "      <td>NaT</td>\n",
       "      <td>NaT</td>\n",
       "      <td>NaT</td>\n",
       "      <td>NaT</td>\n",
       "      <td>NaT</td>\n",
       "      <td>NaT</td>\n",
       "      <td>NaT</td>\n",
       "      <td>NaT</td>\n",
       "      <td>NaT</td>\n",
       "    </tr>\n",
       "  </tbody>\n",
       "</table>\n",
       "</div>"
      ],
      "text/plain": [
       "                             driver_id                           ride_id  \\\n",
       "3687  056175954c78be4c4de7e80167b7e1f9  0488679087be6f76612dfc9ecba227e5   \n",
       "3688  056175954c78be4c4de7e80167b7e1f9  060d6b3e4916e1aec8cc1e746f6fd87e   \n",
       "3689  056175954c78be4c4de7e80167b7e1f9  075f23b3edafd5020837b14b79d7b9e8   \n",
       "3690  056175954c78be4c4de7e80167b7e1f9  0d4727f995ee19c0ed4654b0a5a82176   \n",
       "3691  056175954c78be4c4de7e80167b7e1f9  0f1f969a4ddc30c8c9c14509156e3149   \n",
       "\n",
       "      ride_distance (miles)  ride_duration (minutes)  \\\n",
       "3687               1.285617                 6.783333   \n",
       "3688               1.048875                 6.150000   \n",
       "3689               8.010096                21.933333   \n",
       "3690               1.282510                 7.216667   \n",
       "3691               2.491698                15.733333   \n",
       "\n",
       "      ride_prime_time (percentage)  cost w/ prime time requested_at  \\\n",
       "3687                           0.0            6.720793          NaT   \n",
       "3688                           0.0            6.309206          NaT   \n",
       "3689                           0.0           17.786944          NaT   \n",
       "3690                           0.0            6.812553          NaT   \n",
       "3691                           0.0           10.076787          NaT   \n",
       "\n",
       "     accepted_at arrived_at picked_up_at dropped_off_at  \\\n",
       "3687         NaT        NaT          NaT            NaT   \n",
       "3688         NaT        NaT          NaT            NaT   \n",
       "3689         NaT        NaT          NaT            NaT   \n",
       "3690         NaT        NaT          NaT            NaT   \n",
       "3691         NaT        NaT          NaT            NaT   \n",
       "\n",
       "     duration_request_to_accept duration_accept_to_arrive  \\\n",
       "3687                        NaT                       NaT   \n",
       "3688                        NaT                       NaT   \n",
       "3689                        NaT                       NaT   \n",
       "3690                        NaT                       NaT   \n",
       "3691                        NaT                       NaT   \n",
       "\n",
       "     duration_arrived_to_pickup duration_ride  \n",
       "3687                        NaT           NaT  \n",
       "3688                        NaT           NaT  \n",
       "3689                        NaT           NaT  \n",
       "3690                        NaT           NaT  \n",
       "3691                        NaT           NaT  "
      ]
     },
     "execution_count": 39,
     "metadata": {},
     "output_type": "execute_result"
    }
   ],
   "source": [
    "no_time_data = second_merge[second_merge['requested_at'].isnull()]\n",
    "no_time_data.head()"
   ]
  },
  {
   "cell_type": "code",
   "execution_count": 40,
   "metadata": {},
   "outputs": [
    {
     "data": {
      "text/html": [
       "<div>\n",
       "<style scoped>\n",
       "    .dataframe tbody tr th:only-of-type {\n",
       "        vertical-align: middle;\n",
       "    }\n",
       "\n",
       "    .dataframe tbody tr th {\n",
       "        vertical-align: top;\n",
       "    }\n",
       "\n",
       "    .dataframe thead th {\n",
       "        text-align: right;\n",
       "    }\n",
       "</style>\n",
       "<table border=\"1\" class=\"dataframe\">\n",
       "  <thead>\n",
       "    <tr style=\"text-align: right;\">\n",
       "      <th></th>\n",
       "      <th>driver_id</th>\n",
       "      <th>ride_id</th>\n",
       "      <th>ride_distance (miles)</th>\n",
       "      <th>ride_duration (minutes)</th>\n",
       "      <th>ride_prime_time (percentage)</th>\n",
       "      <th>cost w/ prime time</th>\n",
       "      <th>requested_at</th>\n",
       "      <th>accepted_at</th>\n",
       "      <th>arrived_at</th>\n",
       "      <th>picked_up_at</th>\n",
       "      <th>dropped_off_at</th>\n",
       "      <th>duration_request_to_accept</th>\n",
       "      <th>duration_accept_to_arrive</th>\n",
       "      <th>duration_arrived_to_pickup</th>\n",
       "      <th>duration_ride</th>\n",
       "    </tr>\n",
       "  </thead>\n",
       "  <tbody>\n",
       "    <tr>\n",
       "      <th>193502</th>\n",
       "      <td>NaN</td>\n",
       "      <td>0000d9b24d8ccdd991b76258e616fa01</td>\n",
       "      <td>NaN</td>\n",
       "      <td>NaN</td>\n",
       "      <td>NaN</td>\n",
       "      <td>NaN</td>\n",
       "      <td>2016-04-26 18:11:38</td>\n",
       "      <td>2016-04-26 18:12:15</td>\n",
       "      <td>2016-04-26 18:16:52</td>\n",
       "      <td>2016-04-26 18:16:55</td>\n",
       "      <td>2016-04-26 18:24:14</td>\n",
       "      <td>00:00:37</td>\n",
       "      <td>00:04:37</td>\n",
       "      <td>00:00:03</td>\n",
       "      <td>00:07:19</td>\n",
       "    </tr>\n",
       "    <tr>\n",
       "      <th>193503</th>\n",
       "      <td>NaN</td>\n",
       "      <td>0007f92b090f91c4041c94bc2d6786e2</td>\n",
       "      <td>NaN</td>\n",
       "      <td>NaN</td>\n",
       "      <td>NaN</td>\n",
       "      <td>NaN</td>\n",
       "      <td>2016-06-12 19:51:31</td>\n",
       "      <td>2016-06-12 19:51:34</td>\n",
       "      <td>2016-06-12 19:57:14</td>\n",
       "      <td>2016-06-12 19:57:17</td>\n",
       "      <td>2016-06-12 20:05:53</td>\n",
       "      <td>00:00:03</td>\n",
       "      <td>00:05:40</td>\n",
       "      <td>00:00:03</td>\n",
       "      <td>00:08:36</td>\n",
       "    </tr>\n",
       "    <tr>\n",
       "      <th>193504</th>\n",
       "      <td>NaN</td>\n",
       "      <td>000df1956ee502d18e6cc9e868e4c33d</td>\n",
       "      <td>NaN</td>\n",
       "      <td>NaN</td>\n",
       "      <td>NaN</td>\n",
       "      <td>NaN</td>\n",
       "      <td>2016-06-02 13:35:23</td>\n",
       "      <td>2016-06-02 13:36:00</td>\n",
       "      <td>2016-06-02 13:39:27</td>\n",
       "      <td>2016-06-02 13:39:30</td>\n",
       "      <td>2016-06-02 13:52:10</td>\n",
       "      <td>00:00:37</td>\n",
       "      <td>00:03:27</td>\n",
       "      <td>00:00:03</td>\n",
       "      <td>00:12:40</td>\n",
       "    </tr>\n",
       "    <tr>\n",
       "      <th>193505</th>\n",
       "      <td>NaN</td>\n",
       "      <td>001a1894b75a309bb38937a6a34e1daa</td>\n",
       "      <td>NaN</td>\n",
       "      <td>NaN</td>\n",
       "      <td>NaN</td>\n",
       "      <td>NaN</td>\n",
       "      <td>2016-04-23 01:36:38</td>\n",
       "      <td>2016-04-23 01:36:42</td>\n",
       "      <td>2016-04-23 01:38:44</td>\n",
       "      <td>2016-04-23 01:38:47</td>\n",
       "      <td>2016-04-23 01:48:23</td>\n",
       "      <td>00:00:04</td>\n",
       "      <td>00:02:02</td>\n",
       "      <td>00:00:03</td>\n",
       "      <td>00:09:36</td>\n",
       "    </tr>\n",
       "    <tr>\n",
       "      <th>193506</th>\n",
       "      <td>NaN</td>\n",
       "      <td>001ecbf5d093387dc2870b9ad336be00</td>\n",
       "      <td>NaN</td>\n",
       "      <td>NaN</td>\n",
       "      <td>NaN</td>\n",
       "      <td>NaN</td>\n",
       "      <td>2016-06-09 16:27:43</td>\n",
       "      <td>2016-06-09 16:28:13</td>\n",
       "      <td>2016-06-09 16:39:39</td>\n",
       "      <td>2016-06-09 16:39:41</td>\n",
       "      <td>2016-06-09 16:55:29</td>\n",
       "      <td>00:00:30</td>\n",
       "      <td>00:11:26</td>\n",
       "      <td>00:00:02</td>\n",
       "      <td>00:15:48</td>\n",
       "    </tr>\n",
       "  </tbody>\n",
       "</table>\n",
       "</div>"
      ],
      "text/plain": [
       "       driver_id                           ride_id  ride_distance (miles)  \\\n",
       "193502       NaN  0000d9b24d8ccdd991b76258e616fa01                    NaN   \n",
       "193503       NaN  0007f92b090f91c4041c94bc2d6786e2                    NaN   \n",
       "193504       NaN  000df1956ee502d18e6cc9e868e4c33d                    NaN   \n",
       "193505       NaN  001a1894b75a309bb38937a6a34e1daa                    NaN   \n",
       "193506       NaN  001ecbf5d093387dc2870b9ad336be00                    NaN   \n",
       "\n",
       "        ride_duration (minutes)  ride_prime_time (percentage)  \\\n",
       "193502                      NaN                           NaN   \n",
       "193503                      NaN                           NaN   \n",
       "193504                      NaN                           NaN   \n",
       "193505                      NaN                           NaN   \n",
       "193506                      NaN                           NaN   \n",
       "\n",
       "        cost w/ prime time        requested_at         accepted_at  \\\n",
       "193502                 NaN 2016-04-26 18:11:38 2016-04-26 18:12:15   \n",
       "193503                 NaN 2016-06-12 19:51:31 2016-06-12 19:51:34   \n",
       "193504                 NaN 2016-06-02 13:35:23 2016-06-02 13:36:00   \n",
       "193505                 NaN 2016-04-23 01:36:38 2016-04-23 01:36:42   \n",
       "193506                 NaN 2016-06-09 16:27:43 2016-06-09 16:28:13   \n",
       "\n",
       "                arrived_at        picked_up_at      dropped_off_at  \\\n",
       "193502 2016-04-26 18:16:52 2016-04-26 18:16:55 2016-04-26 18:24:14   \n",
       "193503 2016-06-12 19:57:14 2016-06-12 19:57:17 2016-06-12 20:05:53   \n",
       "193504 2016-06-02 13:39:27 2016-06-02 13:39:30 2016-06-02 13:52:10   \n",
       "193505 2016-04-23 01:38:44 2016-04-23 01:38:47 2016-04-23 01:48:23   \n",
       "193506 2016-06-09 16:39:39 2016-06-09 16:39:41 2016-06-09 16:55:29   \n",
       "\n",
       "       duration_request_to_accept duration_accept_to_arrive  \\\n",
       "193502                   00:00:37                  00:04:37   \n",
       "193503                   00:00:03                  00:05:40   \n",
       "193504                   00:00:37                  00:03:27   \n",
       "193505                   00:00:04                  00:02:02   \n",
       "193506                   00:00:30                  00:11:26   \n",
       "\n",
       "       duration_arrived_to_pickup duration_ride  \n",
       "193502                   00:00:03      00:07:19  \n",
       "193503                   00:00:03      00:08:36  \n",
       "193504                   00:00:03      00:12:40  \n",
       "193505                   00:00:03      00:09:36  \n",
       "193506                   00:00:02      00:15:48  "
      ]
     },
     "execution_count": 40,
     "metadata": {},
     "output_type": "execute_result"
    }
   ],
   "source": [
    "no_driver_data = second_merge[second_merge['driver_id'].isnull()]\n",
    "no_driver_data.head()"
   ]
  },
  {
   "cell_type": "code",
   "execution_count": 41,
   "metadata": {},
   "outputs": [],
   "source": [
    "# WHAT DO WE DO WITH MISSING DATA? GET RID OF IT, MAYBE DO SOME EXTRA ANALYSIS ON IT "
   ]
  },
  {
   "cell_type": "code",
   "execution_count": 42,
   "metadata": {},
   "outputs": [
    {
     "data": {
      "text/plain": [
       "184209"
      ]
     },
     "execution_count": 42,
     "metadata": {},
     "output_type": "execute_result"
    }
   ],
   "source": [
    "# EXTRA SHIT \n",
    "test = all_info.merge(time_merge, how = 'inner')\n",
    "len(test)"
   ]
  },
  {
   "cell_type": "code",
   "execution_count": 43,
   "metadata": {},
   "outputs": [
    {
     "data": {
      "text/html": [
       "<div>\n",
       "<style scoped>\n",
       "    .dataframe tbody tr th:only-of-type {\n",
       "        vertical-align: middle;\n",
       "    }\n",
       "\n",
       "    .dataframe tbody tr th {\n",
       "        vertical-align: top;\n",
       "    }\n",
       "\n",
       "    .dataframe thead th {\n",
       "        text-align: right;\n",
       "    }\n",
       "</style>\n",
       "<table border=\"1\" class=\"dataframe\">\n",
       "  <thead>\n",
       "    <tr style=\"text-align: right;\">\n",
       "      <th></th>\n",
       "      <th>driver_id</th>\n",
       "      <th>ride_id</th>\n",
       "      <th>ride_distance (miles)</th>\n",
       "      <th>ride_duration (minutes)</th>\n",
       "      <th>ride_prime_time (percentage)</th>\n",
       "      <th>cost w/ prime time</th>\n",
       "      <th>driver_onboard_date</th>\n",
       "      <th>requested_at</th>\n",
       "      <th>accepted_at</th>\n",
       "      <th>arrived_at</th>\n",
       "      <th>picked_up_at</th>\n",
       "      <th>dropped_off_at</th>\n",
       "      <th>duration_request_to_accept</th>\n",
       "      <th>duration_accept_to_arrive</th>\n",
       "      <th>duration_arrived_to_pickup</th>\n",
       "      <th>duration_ride</th>\n",
       "    </tr>\n",
       "  </thead>\n",
       "  <tbody>\n",
       "    <tr>\n",
       "      <th>0</th>\n",
       "      <td>002be0ffdc997bd5c50703158b7c2491</td>\n",
       "      <td>006d61cf7446e682f7bc50b0f8a5bea5</td>\n",
       "      <td>1.125303</td>\n",
       "      <td>5.450000</td>\n",
       "      <td>0.50</td>\n",
       "      <td>8.489648</td>\n",
       "      <td>2016-03-29</td>\n",
       "      <td>2016-04-23 02:13:50</td>\n",
       "      <td>2016-04-23 02:14:15</td>\n",
       "      <td>2016-04-23 02:16:36</td>\n",
       "      <td>2016-04-23 02:16:40</td>\n",
       "      <td>2016-04-23 02:22:07</td>\n",
       "      <td>00:00:25</td>\n",
       "      <td>00:02:21</td>\n",
       "      <td>00:00:04</td>\n",
       "      <td>00:05:27</td>\n",
       "    </tr>\n",
       "    <tr>\n",
       "      <th>1</th>\n",
       "      <td>002be0ffdc997bd5c50703158b7c2491</td>\n",
       "      <td>01b522c5c3a756fbdb12e95e87507eda</td>\n",
       "      <td>2.089050</td>\n",
       "      <td>13.483333</td>\n",
       "      <td>0.00</td>\n",
       "      <td>9.118741</td>\n",
       "      <td>2016-03-29</td>\n",
       "      <td>2016-03-29 19:00:49</td>\n",
       "      <td>2016-03-29 19:00:52</td>\n",
       "      <td>2016-03-29 19:03:57</td>\n",
       "      <td>2016-03-29 19:04:01</td>\n",
       "      <td>2016-03-29 19:17:30</td>\n",
       "      <td>00:00:03</td>\n",
       "      <td>00:03:05</td>\n",
       "      <td>00:00:04</td>\n",
       "      <td>00:13:29</td>\n",
       "    </tr>\n",
       "    <tr>\n",
       "      <th>2</th>\n",
       "      <td>002be0ffdc997bd5c50703158b7c2491</td>\n",
       "      <td>029227c4c2971ce69ff2274dc798ef43</td>\n",
       "      <td>2.039340</td>\n",
       "      <td>9.533333</td>\n",
       "      <td>0.00</td>\n",
       "      <td>8.192575</td>\n",
       "      <td>2016-03-29</td>\n",
       "      <td>2016-06-21 11:56:31</td>\n",
       "      <td>2016-06-21 11:56:39</td>\n",
       "      <td>2016-06-21 12:01:32</td>\n",
       "      <td>2016-06-21 12:01:35</td>\n",
       "      <td>2016-06-21 12:11:07</td>\n",
       "      <td>00:00:08</td>\n",
       "      <td>00:04:53</td>\n",
       "      <td>00:00:03</td>\n",
       "      <td>00:09:32</td>\n",
       "    </tr>\n",
       "    <tr>\n",
       "      <th>3</th>\n",
       "      <td>002be0ffdc997bd5c50703158b7c2491</td>\n",
       "      <td>034e861343a63ac3c18a9ceb1ce0ac69</td>\n",
       "      <td>40.564976</td>\n",
       "      <td>55.633333</td>\n",
       "      <td>0.25</td>\n",
       "      <td>77.861319</td>\n",
       "      <td>2016-03-29</td>\n",
       "      <td>2016-05-19 09:15:29</td>\n",
       "      <td>2016-05-19 09:15:33</td>\n",
       "      <td>2016-05-19 09:18:20</td>\n",
       "      <td>2016-05-19 09:18:20</td>\n",
       "      <td>2016-05-19 10:13:58</td>\n",
       "      <td>00:00:04</td>\n",
       "      <td>00:02:47</td>\n",
       "      <td>00:00:00</td>\n",
       "      <td>00:55:38</td>\n",
       "    </tr>\n",
       "    <tr>\n",
       "      <th>4</th>\n",
       "      <td>002be0ffdc997bd5c50703158b7c2491</td>\n",
       "      <td>034f2e614a2f9fc7f1c2f77647d1b981</td>\n",
       "      <td>2.556942</td>\n",
       "      <td>13.716667</td>\n",
       "      <td>1.00</td>\n",
       "      <td>17.666301</td>\n",
       "      <td>2016-03-29</td>\n",
       "      <td>2016-04-20 22:05:30</td>\n",
       "      <td>2016-04-20 22:05:32</td>\n",
       "      <td>2016-04-20 22:07:03</td>\n",
       "      <td>2016-04-20 22:07:02</td>\n",
       "      <td>2016-04-20 22:20:45</td>\n",
       "      <td>00:00:02</td>\n",
       "      <td>00:01:31</td>\n",
       "      <td>-1 days +23:59:59</td>\n",
       "      <td>00:13:43</td>\n",
       "    </tr>\n",
       "  </tbody>\n",
       "</table>\n",
       "</div>"
      ],
      "text/plain": [
       "                          driver_id                           ride_id  \\\n",
       "0  002be0ffdc997bd5c50703158b7c2491  006d61cf7446e682f7bc50b0f8a5bea5   \n",
       "1  002be0ffdc997bd5c50703158b7c2491  01b522c5c3a756fbdb12e95e87507eda   \n",
       "2  002be0ffdc997bd5c50703158b7c2491  029227c4c2971ce69ff2274dc798ef43   \n",
       "3  002be0ffdc997bd5c50703158b7c2491  034e861343a63ac3c18a9ceb1ce0ac69   \n",
       "4  002be0ffdc997bd5c50703158b7c2491  034f2e614a2f9fc7f1c2f77647d1b981   \n",
       "\n",
       "   ride_distance (miles)  ride_duration (minutes)  \\\n",
       "0               1.125303                 5.450000   \n",
       "1               2.089050                13.483333   \n",
       "2               2.039340                 9.533333   \n",
       "3              40.564976                55.633333   \n",
       "4               2.556942                13.716667   \n",
       "\n",
       "   ride_prime_time (percentage)  cost w/ prime time driver_onboard_date  \\\n",
       "0                          0.50            8.489648          2016-03-29   \n",
       "1                          0.00            9.118741          2016-03-29   \n",
       "2                          0.00            8.192575          2016-03-29   \n",
       "3                          0.25           77.861319          2016-03-29   \n",
       "4                          1.00           17.666301          2016-03-29   \n",
       "\n",
       "         requested_at         accepted_at          arrived_at  \\\n",
       "0 2016-04-23 02:13:50 2016-04-23 02:14:15 2016-04-23 02:16:36   \n",
       "1 2016-03-29 19:00:49 2016-03-29 19:00:52 2016-03-29 19:03:57   \n",
       "2 2016-06-21 11:56:31 2016-06-21 11:56:39 2016-06-21 12:01:32   \n",
       "3 2016-05-19 09:15:29 2016-05-19 09:15:33 2016-05-19 09:18:20   \n",
       "4 2016-04-20 22:05:30 2016-04-20 22:05:32 2016-04-20 22:07:03   \n",
       "\n",
       "         picked_up_at      dropped_off_at duration_request_to_accept  \\\n",
       "0 2016-04-23 02:16:40 2016-04-23 02:22:07                   00:00:25   \n",
       "1 2016-03-29 19:04:01 2016-03-29 19:17:30                   00:00:03   \n",
       "2 2016-06-21 12:01:35 2016-06-21 12:11:07                   00:00:08   \n",
       "3 2016-05-19 09:18:20 2016-05-19 10:13:58                   00:00:04   \n",
       "4 2016-04-20 22:07:02 2016-04-20 22:20:45                   00:00:02   \n",
       "\n",
       "  duration_accept_to_arrive duration_arrived_to_pickup duration_ride  \n",
       "0                  00:02:21                   00:00:04      00:05:27  \n",
       "1                  00:03:05                   00:00:04      00:13:29  \n",
       "2                  00:04:53                   00:00:03      00:09:32  \n",
       "3                  00:02:47                   00:00:00      00:55:38  \n",
       "4                  00:01:31          -1 days +23:59:59      00:13:43  "
      ]
     },
     "execution_count": 43,
     "metadata": {},
     "output_type": "execute_result"
    }
   ],
   "source": [
    "test.head()"
   ]
  },
  {
   "cell_type": "code",
   "execution_count": 44,
   "metadata": {},
   "outputs": [],
   "source": [
    "part_one = pd.DataFrame(test.groupby('driver_id')['driver_onboard_date'].min()).reset_index()"
   ]
  },
  {
   "cell_type": "code",
   "execution_count": 45,
   "metadata": {},
   "outputs": [],
   "source": [
    "part_two = pd.DataFrame(test.groupby('driver_id')['dropped_off_at'].max()).reset_index()"
   ]
  },
  {
   "cell_type": "code",
   "execution_count": 62,
   "metadata": {},
   "outputs": [
    {
     "data": {
      "text/html": [
       "<div>\n",
       "<style scoped>\n",
       "    .dataframe tbody tr th:only-of-type {\n",
       "        vertical-align: middle;\n",
       "    }\n",
       "\n",
       "    .dataframe tbody tr th {\n",
       "        vertical-align: top;\n",
       "    }\n",
       "\n",
       "    .dataframe thead th {\n",
       "        text-align: right;\n",
       "    }\n",
       "</style>\n",
       "<table border=\"1\" class=\"dataframe\">\n",
       "  <thead>\n",
       "    <tr style=\"text-align: right;\">\n",
       "      <th></th>\n",
       "      <th>driver_id</th>\n",
       "      <th>driver_onboard_date</th>\n",
       "      <th>dropped_off_at</th>\n",
       "    </tr>\n",
       "  </thead>\n",
       "  <tbody>\n",
       "    <tr>\n",
       "      <th>0</th>\n",
       "      <td>002be0ffdc997bd5c50703158b7c2491</td>\n",
       "      <td>2016-03-29</td>\n",
       "      <td>2016-06-23 10:29:53</td>\n",
       "    </tr>\n",
       "    <tr>\n",
       "      <th>1</th>\n",
       "      <td>007f0389f9c7b03ef97098422f902e62</td>\n",
       "      <td>2016-03-29</td>\n",
       "      <td>2016-06-22 13:28:38</td>\n",
       "    </tr>\n",
       "    <tr>\n",
       "      <th>2</th>\n",
       "      <td>011e5c5dfc5c2c92501b8b24d47509bc</td>\n",
       "      <td>2016-04-05</td>\n",
       "      <td>2016-06-12 20:30:38</td>\n",
       "    </tr>\n",
       "    <tr>\n",
       "      <th>3</th>\n",
       "      <td>0152a2f305e71d26cc964f8d4411add9</td>\n",
       "      <td>2016-04-23</td>\n",
       "      <td>2016-06-26 10:36:13</td>\n",
       "    </tr>\n",
       "    <tr>\n",
       "      <th>4</th>\n",
       "      <td>01674381af7edd264113d4e6ed55ecda</td>\n",
       "      <td>2016-04-29</td>\n",
       "      <td>2016-06-24 13:27:38</td>\n",
       "    </tr>\n",
       "  </tbody>\n",
       "</table>\n",
       "</div>"
      ],
      "text/plain": [
       "                          driver_id driver_onboard_date      dropped_off_at\n",
       "0  002be0ffdc997bd5c50703158b7c2491          2016-03-29 2016-06-23 10:29:53\n",
       "1  007f0389f9c7b03ef97098422f902e62          2016-03-29 2016-06-22 13:28:38\n",
       "2  011e5c5dfc5c2c92501b8b24d47509bc          2016-04-05 2016-06-12 20:30:38\n",
       "3  0152a2f305e71d26cc964f8d4411add9          2016-04-23 2016-06-26 10:36:13\n",
       "4  01674381af7edd264113d4e6ed55ecda          2016-04-29 2016-06-24 13:27:38"
      ]
     },
     "execution_count": 62,
     "metadata": {},
     "output_type": "execute_result"
    }
   ],
   "source": [
    "get_fucked = part_one.merge(part_two)\n",
    "get_fucked.head()"
   ]
  },
  {
   "cell_type": "code",
   "execution_count": 63,
   "metadata": {},
   "outputs": [],
   "source": [
    "get_fucked['life_expectancy'] = get_fucked['dropped_off_at']-get_fucked['driver_onboard_date']"
   ]
  },
  {
   "cell_type": "code",
   "execution_count": 64,
   "metadata": {},
   "outputs": [
    {
     "data": {
      "text/html": [
       "<div>\n",
       "<style scoped>\n",
       "    .dataframe tbody tr th:only-of-type {\n",
       "        vertical-align: middle;\n",
       "    }\n",
       "\n",
       "    .dataframe tbody tr th {\n",
       "        vertical-align: top;\n",
       "    }\n",
       "\n",
       "    .dataframe thead th {\n",
       "        text-align: right;\n",
       "    }\n",
       "</style>\n",
       "<table border=\"1\" class=\"dataframe\">\n",
       "  <thead>\n",
       "    <tr style=\"text-align: right;\">\n",
       "      <th></th>\n",
       "      <th>driver_id</th>\n",
       "      <th>driver_onboard_date</th>\n",
       "      <th>dropped_off_at</th>\n",
       "      <th>life_expectancy</th>\n",
       "    </tr>\n",
       "  </thead>\n",
       "  <tbody>\n",
       "    <tr>\n",
       "      <th>0</th>\n",
       "      <td>002be0ffdc997bd5c50703158b7c2491</td>\n",
       "      <td>2016-03-29</td>\n",
       "      <td>2016-06-23 10:29:53</td>\n",
       "      <td>86 days 10:29:53</td>\n",
       "    </tr>\n",
       "    <tr>\n",
       "      <th>1</th>\n",
       "      <td>007f0389f9c7b03ef97098422f902e62</td>\n",
       "      <td>2016-03-29</td>\n",
       "      <td>2016-06-22 13:28:38</td>\n",
       "      <td>85 days 13:28:38</td>\n",
       "    </tr>\n",
       "    <tr>\n",
       "      <th>2</th>\n",
       "      <td>011e5c5dfc5c2c92501b8b24d47509bc</td>\n",
       "      <td>2016-04-05</td>\n",
       "      <td>2016-06-12 20:30:38</td>\n",
       "      <td>68 days 20:30:38</td>\n",
       "    </tr>\n",
       "    <tr>\n",
       "      <th>3</th>\n",
       "      <td>0152a2f305e71d26cc964f8d4411add9</td>\n",
       "      <td>2016-04-23</td>\n",
       "      <td>2016-06-26 10:36:13</td>\n",
       "      <td>64 days 10:36:13</td>\n",
       "    </tr>\n",
       "    <tr>\n",
       "      <th>4</th>\n",
       "      <td>01674381af7edd264113d4e6ed55ecda</td>\n",
       "      <td>2016-04-29</td>\n",
       "      <td>2016-06-24 13:27:38</td>\n",
       "      <td>56 days 13:27:38</td>\n",
       "    </tr>\n",
       "  </tbody>\n",
       "</table>\n",
       "</div>"
      ],
      "text/plain": [
       "                          driver_id driver_onboard_date      dropped_off_at  \\\n",
       "0  002be0ffdc997bd5c50703158b7c2491          2016-03-29 2016-06-23 10:29:53   \n",
       "1  007f0389f9c7b03ef97098422f902e62          2016-03-29 2016-06-22 13:28:38   \n",
       "2  011e5c5dfc5c2c92501b8b24d47509bc          2016-04-05 2016-06-12 20:30:38   \n",
       "3  0152a2f305e71d26cc964f8d4411add9          2016-04-23 2016-06-26 10:36:13   \n",
       "4  01674381af7edd264113d4e6ed55ecda          2016-04-29 2016-06-24 13:27:38   \n",
       "\n",
       "   life_expectancy  \n",
       "0 86 days 10:29:53  \n",
       "1 85 days 13:28:38  \n",
       "2 68 days 20:30:38  \n",
       "3 64 days 10:36:13  \n",
       "4 56 days 13:27:38  "
      ]
     },
     "execution_count": 64,
     "metadata": {},
     "output_type": "execute_result"
    }
   ],
   "source": [
    "get_fucked.head()"
   ]
  },
  {
   "cell_type": "code",
   "execution_count": 65,
   "metadata": {},
   "outputs": [
    {
     "data": {
      "text/plain": [
       "86"
      ]
     },
     "execution_count": 65,
     "metadata": {},
     "output_type": "execute_result"
    }
   ],
   "source": [
    "get_fucked['life_expectancy'][0].days"
   ]
  },
  {
   "cell_type": "code",
   "execution_count": 66,
   "metadata": {},
   "outputs": [],
   "source": [
    "def date_conversion(x):\n",
    "    return x.days"
   ]
  },
  {
   "cell_type": "code",
   "execution_count": 67,
   "metadata": {
    "scrolled": true
   },
   "outputs": [],
   "source": [
    "get_fucked['life_expectancy (days)'] = get_fucked['life_expectancy'].apply(date_conversion)"
   ]
  },
  {
   "cell_type": "code",
   "execution_count": 68,
   "metadata": {},
   "outputs": [
    {
     "data": {
      "text/html": [
       "<div>\n",
       "<style scoped>\n",
       "    .dataframe tbody tr th:only-of-type {\n",
       "        vertical-align: middle;\n",
       "    }\n",
       "\n",
       "    .dataframe tbody tr th {\n",
       "        vertical-align: top;\n",
       "    }\n",
       "\n",
       "    .dataframe thead th {\n",
       "        text-align: right;\n",
       "    }\n",
       "</style>\n",
       "<table border=\"1\" class=\"dataframe\">\n",
       "  <thead>\n",
       "    <tr style=\"text-align: right;\">\n",
       "      <th></th>\n",
       "      <th>driver_id</th>\n",
       "      <th>driver_onboard_date</th>\n",
       "      <th>dropped_off_at</th>\n",
       "      <th>life_expectancy</th>\n",
       "      <th>life_expectancy (days)</th>\n",
       "    </tr>\n",
       "  </thead>\n",
       "  <tbody>\n",
       "    <tr>\n",
       "      <th>0</th>\n",
       "      <td>002be0ffdc997bd5c50703158b7c2491</td>\n",
       "      <td>2016-03-29</td>\n",
       "      <td>2016-06-23 10:29:53</td>\n",
       "      <td>86 days 10:29:53</td>\n",
       "      <td>86</td>\n",
       "    </tr>\n",
       "    <tr>\n",
       "      <th>1</th>\n",
       "      <td>007f0389f9c7b03ef97098422f902e62</td>\n",
       "      <td>2016-03-29</td>\n",
       "      <td>2016-06-22 13:28:38</td>\n",
       "      <td>85 days 13:28:38</td>\n",
       "      <td>85</td>\n",
       "    </tr>\n",
       "    <tr>\n",
       "      <th>2</th>\n",
       "      <td>011e5c5dfc5c2c92501b8b24d47509bc</td>\n",
       "      <td>2016-04-05</td>\n",
       "      <td>2016-06-12 20:30:38</td>\n",
       "      <td>68 days 20:30:38</td>\n",
       "      <td>68</td>\n",
       "    </tr>\n",
       "    <tr>\n",
       "      <th>3</th>\n",
       "      <td>0152a2f305e71d26cc964f8d4411add9</td>\n",
       "      <td>2016-04-23</td>\n",
       "      <td>2016-06-26 10:36:13</td>\n",
       "      <td>64 days 10:36:13</td>\n",
       "      <td>64</td>\n",
       "    </tr>\n",
       "    <tr>\n",
       "      <th>4</th>\n",
       "      <td>01674381af7edd264113d4e6ed55ecda</td>\n",
       "      <td>2016-04-29</td>\n",
       "      <td>2016-06-24 13:27:38</td>\n",
       "      <td>56 days 13:27:38</td>\n",
       "      <td>56</td>\n",
       "    </tr>\n",
       "  </tbody>\n",
       "</table>\n",
       "</div>"
      ],
      "text/plain": [
       "                          driver_id driver_onboard_date      dropped_off_at  \\\n",
       "0  002be0ffdc997bd5c50703158b7c2491          2016-03-29 2016-06-23 10:29:53   \n",
       "1  007f0389f9c7b03ef97098422f902e62          2016-03-29 2016-06-22 13:28:38   \n",
       "2  011e5c5dfc5c2c92501b8b24d47509bc          2016-04-05 2016-06-12 20:30:38   \n",
       "3  0152a2f305e71d26cc964f8d4411add9          2016-04-23 2016-06-26 10:36:13   \n",
       "4  01674381af7edd264113d4e6ed55ecda          2016-04-29 2016-06-24 13:27:38   \n",
       "\n",
       "   life_expectancy  life_expectancy (days)  \n",
       "0 86 days 10:29:53                      86  \n",
       "1 85 days 13:28:38                      85  \n",
       "2 68 days 20:30:38                      68  \n",
       "3 64 days 10:36:13                      64  \n",
       "4 56 days 13:27:38                      56  "
      ]
     },
     "execution_count": 68,
     "metadata": {},
     "output_type": "execute_result"
    }
   ],
   "source": [
    "get_fucked.head()"
   ]
  },
  {
   "cell_type": "code",
   "execution_count": 73,
   "metadata": {},
   "outputs": [],
   "source": [
    "cost_boi = pd.DataFrame(test.groupby('driver_id')['cost w/ prime time'].sum()).reset_index()"
   ]
  },
  {
   "cell_type": "code",
   "execution_count": 77,
   "metadata": {},
   "outputs": [],
   "source": [
    "big_info = cost_boi.merge(get_fucked, how='inner')"
   ]
  },
  {
   "cell_type": "code",
   "execution_count": 78,
   "metadata": {},
   "outputs": [
    {
     "data": {
      "text/html": [
       "<div>\n",
       "<style scoped>\n",
       "    .dataframe tbody tr th:only-of-type {\n",
       "        vertical-align: middle;\n",
       "    }\n",
       "\n",
       "    .dataframe tbody tr th {\n",
       "        vertical-align: top;\n",
       "    }\n",
       "\n",
       "    .dataframe thead th {\n",
       "        text-align: right;\n",
       "    }\n",
       "</style>\n",
       "<table border=\"1\" class=\"dataframe\">\n",
       "  <thead>\n",
       "    <tr style=\"text-align: right;\">\n",
       "      <th></th>\n",
       "      <th>driver_id</th>\n",
       "      <th>cost w/ prime time</th>\n",
       "      <th>driver_onboard_date</th>\n",
       "      <th>dropped_off_at</th>\n",
       "      <th>life_expectancy</th>\n",
       "      <th>life_expectancy (days)</th>\n",
       "    </tr>\n",
       "  </thead>\n",
       "  <tbody>\n",
       "    <tr>\n",
       "      <th>0</th>\n",
       "      <td>002be0ffdc997bd5c50703158b7c2491</td>\n",
       "      <td>3560.922468</td>\n",
       "      <td>2016-03-29</td>\n",
       "      <td>2016-06-23 10:29:53</td>\n",
       "      <td>86 days 10:29:53</td>\n",
       "      <td>86</td>\n",
       "    </tr>\n",
       "    <tr>\n",
       "      <th>1</th>\n",
       "      <td>007f0389f9c7b03ef97098422f902e62</td>\n",
       "      <td>321.494698</td>\n",
       "      <td>2016-03-29</td>\n",
       "      <td>2016-06-22 13:28:38</td>\n",
       "      <td>85 days 13:28:38</td>\n",
       "      <td>85</td>\n",
       "    </tr>\n",
       "    <tr>\n",
       "      <th>2</th>\n",
       "      <td>011e5c5dfc5c2c92501b8b24d47509bc</td>\n",
       "      <td>482.427855</td>\n",
       "      <td>2016-04-05</td>\n",
       "      <td>2016-06-12 20:30:38</td>\n",
       "      <td>68 days 20:30:38</td>\n",
       "      <td>68</td>\n",
       "    </tr>\n",
       "    <tr>\n",
       "      <th>3</th>\n",
       "      <td>0152a2f305e71d26cc964f8d4411add9</td>\n",
       "      <td>2610.868733</td>\n",
       "      <td>2016-04-23</td>\n",
       "      <td>2016-06-26 10:36:13</td>\n",
       "      <td>64 days 10:36:13</td>\n",
       "      <td>64</td>\n",
       "    </tr>\n",
       "    <tr>\n",
       "      <th>4</th>\n",
       "      <td>01674381af7edd264113d4e6ed55ecda</td>\n",
       "      <td>5381.091520</td>\n",
       "      <td>2016-04-29</td>\n",
       "      <td>2016-06-24 13:27:38</td>\n",
       "      <td>56 days 13:27:38</td>\n",
       "      <td>56</td>\n",
       "    </tr>\n",
       "  </tbody>\n",
       "</table>\n",
       "</div>"
      ],
      "text/plain": [
       "                          driver_id  cost w/ prime time driver_onboard_date  \\\n",
       "0  002be0ffdc997bd5c50703158b7c2491         3560.922468          2016-03-29   \n",
       "1  007f0389f9c7b03ef97098422f902e62          321.494698          2016-03-29   \n",
       "2  011e5c5dfc5c2c92501b8b24d47509bc          482.427855          2016-04-05   \n",
       "3  0152a2f305e71d26cc964f8d4411add9         2610.868733          2016-04-23   \n",
       "4  01674381af7edd264113d4e6ed55ecda         5381.091520          2016-04-29   \n",
       "\n",
       "       dropped_off_at  life_expectancy  life_expectancy (days)  \n",
       "0 2016-06-23 10:29:53 86 days 10:29:53                      86  \n",
       "1 2016-06-22 13:28:38 85 days 13:28:38                      85  \n",
       "2 2016-06-12 20:30:38 68 days 20:30:38                      68  \n",
       "3 2016-06-26 10:36:13 64 days 10:36:13                      64  \n",
       "4 2016-06-24 13:27:38 56 days 13:27:38                      56  "
      ]
     },
     "execution_count": 78,
     "metadata": {},
     "output_type": "execute_result"
    }
   ],
   "source": [
    "big_info.head()"
   ]
  },
  {
   "cell_type": "code",
   "execution_count": 80,
   "metadata": {},
   "outputs": [
    {
     "data": {
      "text/plain": [
       "array([[<matplotlib.axes._subplots.AxesSubplot object at 0x126275588>]],\n",
       "      dtype=object)"
      ]
     },
     "execution_count": 80,
     "metadata": {},
     "output_type": "execute_result"
    },
    {
     "data": {
      "image/png": "[encoded data removed]",
      "text/plain": [
       "<Figure size 432x288 with 1 Axes>"
      ]
     },
     "metadata": {
      "needs_background": "light"
     },
     "output_type": "display_data"
    }
   ],
   "source": [
    "big_info.hist('cost w/ prime time')"
   ]
  },
  {
   "cell_type": "code",
   "execution_count": 81,
   "metadata": {},
   "outputs": [
    {
     "data": {
      "text/plain": [
       "array([[<matplotlib.axes._subplots.AxesSubplot object at 0x1278a7e10>]],\n",
       "      dtype=object)"
      ]
     },
     "execution_count": 81,
     "metadata": {},
     "output_type": "execute_result"
    },
    {
     "data": {
      "image/png": "[encoded data removed]",
      "text/plain": [
       "<Figure size 432x288 with 1 Axes>"
      ]
     },
     "metadata": {
      "needs_background": "light"
     },
     "output_type": "display_data"
    }
   ],
   "source": [
    "big_info.hist('life_expectancy (days)')"
   ]
  },
  {
   "cell_type": "code",
   "execution_count": null,
   "metadata": {},
   "outputs": [],
   "source": []
  }
 ],
 "metadata": {
  "kernelspec": {
   "display_name": "Python 3",
   "language": "python",
   "name": "python3"
  },
  "language_info": {
   "codemirror_mode": {
    "name": "ipython",
    "version": 3
   },
   "file_extension": ".py",
   "mimetype": "text/x-python",
   "name": "python",
   "nbconvert_exporter": "python",
   "pygments_lexer": "ipython3",
   "version": "3.6.8"
  }
 },
 "nbformat": 4,
 "nbformat_minor": 2
}
